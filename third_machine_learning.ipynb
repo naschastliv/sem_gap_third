{
 "cells": [
  {
   "cell_type": "markdown",
   "metadata": {},
   "source": [
    "# Третья лабораторная. Методы машинного обучения\n",
    "\n",
    "Лабораторная состоит из гайда по методам глубинного обучения (Deep Learning) и \"продвинутым\" методам машинного обучения (Machine Learning) на Python и пяти заданий:\n",
    "\n",
    "* [Задание 1](#Задание-1.) - поиск гиперпараметров случайного леса\n",
    "\n",
    "* [Задание 2](#Задание-2.) - поиск гиперпараметров нейросети для классификации\n",
    "\n",
    "* [Задание 3](#Задание-3.) - поиск гиперпараметров для градиентного бустинга\n",
    "\n",
    "* [Задание 4 (дополнительное)](#Задание-4-(дополнительное).) - выбор подходящих аугментаций. Это задание повышенной сложности, за него даётся 2.5 балла\n",
    "\n",
    "* [Задание 5 (дополнительное)](#Задание-5-(дополнительное).) - выбор модели машинного обучения для решения задачи регрессии. За это задание можно получить 1 балл\n",
    "\n",
    "Из пяти заданий требуется выполнить минимум первые 3 задания, за остальные задания можно заработать дополнительные баллы.\n",
    "\n",
    "За попадание в топ 3 по качеству модели в заданиях 3, 4 и 5 можно получить по 1 дополнительному баллу за задание.\n",
    "\n",
    "Задания 2, 3 и 4 последовательно связаны друг с другом - для одной задачи требуется добиться необходимого качества разными способами. Чтобы выполнить задание 3, требуется сначала выполнить задание 2, так как там обучается нейросеть для предобработки (имейте это в виду, если будете перезапускать ноутбук).\n",
    "\n",
    "**Не забудьте** перед отправкой на проверку добавить в репозиторий сохранённые модели (файлы из папки `models`)."
   ]
  },
  {
   "cell_type": "markdown",
   "metadata": {},
   "source": [
    "*В этом ноутбуке изначально опущены результаты исполнения кода. Рекомендуется запускать (Shift+Enter) ячейки по мере просмотра документа*"
   ]
  },
  {
   "cell_type": "markdown",
   "metadata": {},
   "source": [
    "#### Используемые модули\n",
    "\n",
    "Обновим пакетный менеджер pip, чтобы корректно уставить необходимые модули:"
   ]
  },
  {
   "cell_type": "code",
   "execution_count": 1,
   "metadata": {},
   "outputs": [
    {
     "name": "stdout",
     "output_type": "stream",
     "text": [
      "Requirement already satisfied: pip in c:\\users\\vasilisak\\anaconda3\\lib\\site-packages (22.3)\n"
     ]
    }
   ],
   "source": [
    "# При необходимости добавляйте опцию --user\n",
    "!pip install --upgrade pip --user"
   ]
  },
  {
   "cell_type": "markdown",
   "metadata": {},
   "source": [
    "Установим необходимые модули:"
   ]
  },
  {
   "cell_type": "code",
   "execution_count": 2,
   "metadata": {},
   "outputs": [
    {
     "name": "stdout",
     "output_type": "stream",
     "text": [
      "Requirement already satisfied: catboost==1.0.6 in c:\\users\\vasilisak\\anaconda3\\lib\\site-packages (from -r requirements.txt (line 1)) (1.0.6)\n",
      "Requirement already satisfied: googledrivedownloader==0.4 in c:\\users\\vasilisak\\anaconda3\\lib\\site-packages (from -r requirements.txt (line 2)) (0.4)\n",
      "Requirement already satisfied: joblib==1.1.0 in c:\\users\\vasilisak\\anaconda3\\lib\\site-packages (from -r requirements.txt (line 3)) (1.1.0)\n",
      "Requirement already satisfied: keras==2.10.0 in c:\\users\\vasilisak\\anaconda3\\lib\\site-packages (from -r requirements.txt (line 4)) (2.10.0)\n",
      "Requirement already satisfied: keras_tuner==1.1.3 in c:\\users\\vasilisak\\anaconda3\\lib\\site-packages (from -r requirements.txt (line 5)) (1.1.3)\n",
      "Requirement already satisfied: matplotlib==3.5.1 in c:\\users\\vasilisak\\anaconda3\\lib\\site-packages (from -r requirements.txt (line 6)) (3.5.1)\n",
      "Requirement already satisfied: numpy==1.21.5 in c:\\users\\vasilisak\\anaconda3\\lib\\site-packages (from -r requirements.txt (line 7)) (1.21.5)\n",
      "Requirement already satisfied: pandas==1.4.2 in c:\\users\\vasilisak\\anaconda3\\lib\\site-packages (from -r requirements.txt (line 8)) (1.4.2)\n",
      "Requirement already satisfied: scikit_learn==1.1.2 in c:\\users\\vasilisak\\anaconda3\\lib\\site-packages (from -r requirements.txt (line 9)) (1.1.2)\n",
      "Requirement already satisfied: tensorflow==2.10.0 in c:\\users\\vasilisak\\anaconda3\\lib\\site-packages (from -r requirements.txt (line 10)) (2.10.0)\n",
      "Requirement already satisfied: graphviz in c:\\users\\vasilisak\\anaconda3\\lib\\site-packages (from catboost==1.0.6->-r requirements.txt (line 1)) (0.20.1)\n",
      "Requirement already satisfied: six in c:\\users\\vasilisak\\anaconda3\\lib\\site-packages (from catboost==1.0.6->-r requirements.txt (line 1)) (1.16.0)\n",
      "Requirement already satisfied: plotly in c:\\users\\vasilisak\\anaconda3\\lib\\site-packages (from catboost==1.0.6->-r requirements.txt (line 1)) (5.6.0)\n",
      "Requirement already satisfied: scipy in c:\\users\\vasilisak\\anaconda3\\lib\\site-packages (from catboost==1.0.6->-r requirements.txt (line 1)) (1.7.3)\n",
      "Requirement already satisfied: kt-legacy in c:\\users\\vasilisak\\anaconda3\\lib\\site-packages (from keras_tuner==1.1.3->-r requirements.txt (line 5)) (1.0.4)\n",
      "Requirement already satisfied: tensorboard in c:\\users\\vasilisak\\anaconda3\\lib\\site-packages (from keras_tuner==1.1.3->-r requirements.txt (line 5)) (2.10.1)\n",
      "Requirement already satisfied: ipython in c:\\users\\vasilisak\\anaconda3\\lib\\site-packages (from keras_tuner==1.1.3->-r requirements.txt (line 5)) (8.4.0)\n",
      "Requirement already satisfied: packaging in c:\\users\\vasilisak\\anaconda3\\lib\\site-packages (from keras_tuner==1.1.3->-r requirements.txt (line 5)) (21.3)\n",
      "Requirement already satisfied: requests in c:\\users\\vasilisak\\anaconda3\\lib\\site-packages (from keras_tuner==1.1.3->-r requirements.txt (line 5)) (2.27.1)\n",
      "Requirement already satisfied: cycler>=0.10 in c:\\users\\vasilisak\\anaconda3\\lib\\site-packages (from matplotlib==3.5.1->-r requirements.txt (line 6)) (0.11.0)\n",
      "Requirement already satisfied: pillow>=6.2.0 in c:\\users\\vasilisak\\anaconda3\\lib\\site-packages (from matplotlib==3.5.1->-r requirements.txt (line 6)) (9.0.1)\n",
      "Requirement already satisfied: pyparsing>=2.2.1 in c:\\users\\vasilisak\\anaconda3\\lib\\site-packages (from matplotlib==3.5.1->-r requirements.txt (line 6)) (3.0.4)\n",
      "Requirement already satisfied: fonttools>=4.22.0 in c:\\users\\vasilisak\\anaconda3\\lib\\site-packages (from matplotlib==3.5.1->-r requirements.txt (line 6)) (4.25.0)\n",
      "Requirement already satisfied: kiwisolver>=1.0.1 in c:\\users\\vasilisak\\anaconda3\\lib\\site-packages (from matplotlib==3.5.1->-r requirements.txt (line 6)) (1.3.2)\n",
      "Requirement already satisfied: python-dateutil>=2.7 in c:\\users\\vasilisak\\anaconda3\\lib\\site-packages (from matplotlib==3.5.1->-r requirements.txt (line 6)) (2.8.2)\n",
      "Requirement already satisfied: pytz>=2020.1 in c:\\users\\vasilisak\\anaconda3\\lib\\site-packages (from pandas==1.4.2->-r requirements.txt (line 8)) (2021.3)\n",
      "Requirement already satisfied: threadpoolctl>=2.0.0 in c:\\users\\vasilisak\\anaconda3\\lib\\site-packages (from scikit_learn==1.1.2->-r requirements.txt (line 9)) (2.2.0)\n",
      "Requirement already satisfied: opt-einsum>=2.3.2 in c:\\users\\vasilisak\\anaconda3\\lib\\site-packages (from tensorflow==2.10.0->-r requirements.txt (line 10)) (3.3.0)\n",
      "Requirement already satisfied: tensorflow-estimator<2.11,>=2.10.0 in c:\\users\\vasilisak\\anaconda3\\lib\\site-packages (from tensorflow==2.10.0->-r requirements.txt (line 10)) (2.10.0)\n",
      "Requirement already satisfied: termcolor>=1.1.0 in c:\\users\\vasilisak\\anaconda3\\lib\\site-packages (from tensorflow==2.10.0->-r requirements.txt (line 10)) (2.0.1)\n",
      "Requirement already satisfied: h5py>=2.9.0 in c:\\users\\vasilisak\\anaconda3\\lib\\site-packages (from tensorflow==2.10.0->-r requirements.txt (line 10)) (3.6.0)\n",
      "Requirement already satisfied: keras-preprocessing>=1.1.1 in c:\\users\\vasilisak\\anaconda3\\lib\\site-packages (from tensorflow==2.10.0->-r requirements.txt (line 10)) (1.1.2)\n",
      "Requirement already satisfied: google-pasta>=0.1.1 in c:\\users\\vasilisak\\anaconda3\\lib\\site-packages (from tensorflow==2.10.0->-r requirements.txt (line 10)) (0.2.0)\n",
      "Requirement already satisfied: grpcio<2.0,>=1.24.3 in c:\\users\\vasilisak\\anaconda3\\lib\\site-packages (from tensorflow==2.10.0->-r requirements.txt (line 10)) (1.42.0)\n",
      "Requirement already satisfied: tensorflow-io-gcs-filesystem>=0.23.1 in c:\\users\\vasilisak\\anaconda3\\lib\\site-packages (from tensorflow==2.10.0->-r requirements.txt (line 10)) (0.27.0)\n",
      "Requirement already satisfied: setuptools in c:\\users\\vasilisak\\anaconda3\\lib\\site-packages (from tensorflow==2.10.0->-r requirements.txt (line 10)) (61.2.0)\n",
      "Requirement already satisfied: flatbuffers>=2.0 in c:\\users\\vasilisak\\anaconda3\\lib\\site-packages (from tensorflow==2.10.0->-r requirements.txt (line 10)) (22.9.24)\n",
      "Requirement already satisfied: libclang>=13.0.0 in c:\\users\\vasilisak\\anaconda3\\lib\\site-packages (from tensorflow==2.10.0->-r requirements.txt (line 10)) (14.0.6)\n",
      "Requirement already satisfied: wrapt>=1.11.0 in c:\\users\\vasilisak\\anaconda3\\lib\\site-packages (from tensorflow==2.10.0->-r requirements.txt (line 10)) (1.12.1)\n",
      "Requirement already satisfied: typing-extensions>=3.6.6 in c:\\users\\vasilisak\\anaconda3\\lib\\site-packages (from tensorflow==2.10.0->-r requirements.txt (line 10)) (4.1.1)\n",
      "Requirement already satisfied: protobuf<3.20,>=3.9.2 in c:\\users\\vasilisak\\anaconda3\\lib\\site-packages (from tensorflow==2.10.0->-r requirements.txt (line 10)) (3.19.1)\n",
      "Requirement already satisfied: astunparse>=1.6.0 in c:\\users\\vasilisak\\anaconda3\\lib\\site-packages (from tensorflow==2.10.0->-r requirements.txt (line 10)) (1.6.3)\n",
      "Requirement already satisfied: absl-py>=1.0.0 in c:\\users\\vasilisak\\anaconda3\\lib\\site-packages (from tensorflow==2.10.0->-r requirements.txt (line 10)) (1.3.0)\n",
      "Requirement already satisfied: gast<=0.4.0,>=0.2.1 in c:\\users\\vasilisak\\anaconda3\\lib\\site-packages (from tensorflow==2.10.0->-r requirements.txt (line 10)) (0.4.0)\n",
      "Requirement already satisfied: wheel<1.0,>=0.23.0 in c:\\users\\vasilisak\\anaconda3\\lib\\site-packages (from astunparse>=1.6.0->tensorflow==2.10.0->-r requirements.txt (line 10)) (0.37.1)\n",
      "Requirement already satisfied: werkzeug>=1.0.1 in c:\\users\\vasilisak\\anaconda3\\lib\\site-packages (from tensorboard->keras_tuner==1.1.3->-r requirements.txt (line 5)) (2.0.3)\n",
      "Requirement already satisfied: tensorboard-data-server<0.7.0,>=0.6.0 in c:\\users\\vasilisak\\anaconda3\\lib\\site-packages (from tensorboard->keras_tuner==1.1.3->-r requirements.txt (line 5)) (0.6.1)\n",
      "Requirement already satisfied: markdown>=2.6.8 in c:\\users\\vasilisak\\anaconda3\\lib\\site-packages (from tensorboard->keras_tuner==1.1.3->-r requirements.txt (line 5)) (3.3.4)\n",
      "Requirement already satisfied: google-auth<3,>=1.6.3 in c:\\users\\vasilisak\\anaconda3\\lib\\site-packages (from tensorboard->keras_tuner==1.1.3->-r requirements.txt (line 5)) (1.33.0)\n",
      "Requirement already satisfied: google-auth-oauthlib<0.5,>=0.4.1 in c:\\users\\vasilisak\\anaconda3\\lib\\site-packages (from tensorboard->keras_tuner==1.1.3->-r requirements.txt (line 5)) (0.4.6)\n",
      "Requirement already satisfied: tensorboard-plugin-wit>=1.6.0 in c:\\users\\vasilisak\\anaconda3\\lib\\site-packages (from tensorboard->keras_tuner==1.1.3->-r requirements.txt (line 5)) (1.8.1)\n",
      "Requirement already satisfied: urllib3<1.27,>=1.21.1 in c:\\users\\vasilisak\\anaconda3\\lib\\site-packages (from requests->keras_tuner==1.1.3->-r requirements.txt (line 5)) (1.26.9)\n",
      "Requirement already satisfied: idna<4,>=2.5 in c:\\users\\vasilisak\\anaconda3\\lib\\site-packages (from requests->keras_tuner==1.1.3->-r requirements.txt (line 5)) (3.3)\n",
      "Requirement already satisfied: charset-normalizer~=2.0.0 in c:\\users\\vasilisak\\anaconda3\\lib\\site-packages (from requests->keras_tuner==1.1.3->-r requirements.txt (line 5)) (2.0.4)\n",
      "Requirement already satisfied: certifi>=2017.4.17 in c:\\users\\vasilisak\\anaconda3\\lib\\site-packages (from requests->keras_tuner==1.1.3->-r requirements.txt (line 5)) (2021.10.8)\n",
      "Requirement already satisfied: prompt-toolkit!=3.0.0,!=3.0.1,<3.1.0,>=2.0.0 in c:\\users\\vasilisak\\anaconda3\\lib\\site-packages (from ipython->keras_tuner==1.1.3->-r requirements.txt (line 5)) (3.0.20)\n",
      "Requirement already satisfied: decorator in c:\\users\\vasilisak\\anaconda3\\lib\\site-packages (from ipython->keras_tuner==1.1.3->-r requirements.txt (line 5)) (5.1.1)\n",
      "Requirement already satisfied: pygments>=2.4.0 in c:\\users\\vasilisak\\anaconda3\\lib\\site-packages (from ipython->keras_tuner==1.1.3->-r requirements.txt (line 5)) (2.11.2)\n",
      "Requirement already satisfied: stack-data in c:\\users\\vasilisak\\anaconda3\\lib\\site-packages (from ipython->keras_tuner==1.1.3->-r requirements.txt (line 5)) (0.2.0)\n",
      "Requirement already satisfied: jedi>=0.16 in c:\\users\\vasilisak\\anaconda3\\lib\\site-packages (from ipython->keras_tuner==1.1.3->-r requirements.txt (line 5)) (0.18.1)\n",
      "Requirement already satisfied: colorama in c:\\users\\vasilisak\\anaconda3\\lib\\site-packages (from ipython->keras_tuner==1.1.3->-r requirements.txt (line 5)) (0.4.4)\n",
      "Requirement already satisfied: traitlets>=5 in c:\\users\\vasilisak\\anaconda3\\lib\\site-packages (from ipython->keras_tuner==1.1.3->-r requirements.txt (line 5)) (5.1.1)\n",
      "Requirement already satisfied: pickleshare in c:\\users\\vasilisak\\anaconda3\\lib\\site-packages (from ipython->keras_tuner==1.1.3->-r requirements.txt (line 5)) (0.7.5)\n",
      "Requirement already satisfied: backcall in c:\\users\\vasilisak\\anaconda3\\lib\\site-packages (from ipython->keras_tuner==1.1.3->-r requirements.txt (line 5)) (0.2.0)\n",
      "Requirement already satisfied: matplotlib-inline in c:\\users\\vasilisak\\anaconda3\\lib\\site-packages (from ipython->keras_tuner==1.1.3->-r requirements.txt (line 5)) (0.1.2)\n",
      "Requirement already satisfied: tenacity>=6.2.0 in c:\\users\\vasilisak\\anaconda3\\lib\\site-packages (from plotly->catboost==1.0.6->-r requirements.txt (line 1)) (8.0.1)\n"
     ]
    },
    {
     "name": "stdout",
     "output_type": "stream",
     "text": [
      "Requirement already satisfied: pyasn1-modules>=0.2.1 in c:\\users\\vasilisak\\anaconda3\\lib\\site-packages (from google-auth<3,>=1.6.3->tensorboard->keras_tuner==1.1.3->-r requirements.txt (line 5)) (0.2.8)\n",
      "Requirement already satisfied: cachetools<5.0,>=2.0.0 in c:\\users\\vasilisak\\anaconda3\\lib\\site-packages (from google-auth<3,>=1.6.3->tensorboard->keras_tuner==1.1.3->-r requirements.txt (line 5)) (4.2.2)\n",
      "Requirement already satisfied: rsa<5,>=3.1.4 in c:\\users\\vasilisak\\anaconda3\\lib\\site-packages (from google-auth<3,>=1.6.3->tensorboard->keras_tuner==1.1.3->-r requirements.txt (line 5)) (4.7.2)\n",
      "Requirement already satisfied: requests-oauthlib>=0.7.0 in c:\\users\\vasilisak\\anaconda3\\lib\\site-packages (from google-auth-oauthlib<0.5,>=0.4.1->tensorboard->keras_tuner==1.1.3->-r requirements.txt (line 5)) (1.3.1)\n",
      "Requirement already satisfied: parso<0.9.0,>=0.8.0 in c:\\users\\vasilisak\\anaconda3\\lib\\site-packages (from jedi>=0.16->ipython->keras_tuner==1.1.3->-r requirements.txt (line 5)) (0.8.3)\n",
      "Requirement already satisfied: wcwidth in c:\\users\\vasilisak\\anaconda3\\lib\\site-packages (from prompt-toolkit!=3.0.0,!=3.0.1,<3.1.0,>=2.0.0->ipython->keras_tuner==1.1.3->-r requirements.txt (line 5)) (0.2.5)\n",
      "Requirement already satisfied: executing in c:\\users\\vasilisak\\anaconda3\\lib\\site-packages (from stack-data->ipython->keras_tuner==1.1.3->-r requirements.txt (line 5)) (0.8.3)\n",
      "Requirement already satisfied: pure-eval in c:\\users\\vasilisak\\anaconda3\\lib\\site-packages (from stack-data->ipython->keras_tuner==1.1.3->-r requirements.txt (line 5)) (0.2.2)\n",
      "Requirement already satisfied: asttokens in c:\\users\\vasilisak\\anaconda3\\lib\\site-packages (from stack-data->ipython->keras_tuner==1.1.3->-r requirements.txt (line 5)) (2.0.5)\n",
      "Requirement already satisfied: pyasn1<0.5.0,>=0.4.6 in c:\\users\\vasilisak\\anaconda3\\lib\\site-packages (from pyasn1-modules>=0.2.1->google-auth<3,>=1.6.3->tensorboard->keras_tuner==1.1.3->-r requirements.txt (line 5)) (0.4.8)\n",
      "Requirement already satisfied: oauthlib>=3.0.0 in c:\\users\\vasilisak\\anaconda3\\lib\\site-packages (from requests-oauthlib>=0.7.0->google-auth-oauthlib<0.5,>=0.4.1->tensorboard->keras_tuner==1.1.3->-r requirements.txt (line 5)) (3.2.1)\n"
     ]
    }
   ],
   "source": [
    "!pip install -r requirements.txt"
   ]
  },
  {
   "cell_type": "markdown",
   "metadata": {},
   "source": [
    "Подключим модули, которые пригодятся в мини-лабораторной."
   ]
  },
  {
   "cell_type": "code",
   "execution_count": 3,
   "metadata": {},
   "outputs": [],
   "source": [
    "import numpy as np\n",
    "import pandas as pd\n",
    "import matplotlib.pyplot as plt\n",
    "%matplotlib inline\n",
    "from google_drive_downloader import GoogleDriveDownloader as gdd\n",
    "import os\n",
    "from pathlib import Path\n",
    "\n",
    "from sklearn.metrics import mean_squared_error, mean_absolute_error, r2_score, accuracy_score, confusion_matrix\n",
    "from sklearn.model_selection import GridSearchCV, train_test_split, cross_val_score\n",
    "from sklearn.pipeline import make_pipeline\n",
    "from sklearn.linear_model import LinearRegression\n",
    "from sklearn.preprocessing import PolynomialFeatures, StandardScaler, MinMaxScaler\n",
    "from sklearn.datasets import load_wine, fetch_openml\n",
    "from sklearn.manifold import TSNE, SpectralEmbedding\n",
    "from sklearn.decomposition import PCA\n",
    "from sklearn.ensemble import RandomForestRegressor, GradientBoostingRegressor\n",
    "import joblib\n",
    "\n",
    "from catboost import CatBoostRegressor, CatBoostClassifier\n",
    "\n",
    "import tensorflow as tf\n",
    "from tensorflow.random import set_seed as set_random_seed\n",
    "from keras import Model, Input\n",
    "from keras.models import Sequential, load_model\n",
    "from keras.datasets import fashion_mnist\n",
    "from keras.utils.np_utils import to_categorical\n",
    "from keras.layers import (Conv2D, MaxPooling2D, Flatten, Reshape, GlobalMaxPooling2D,\n",
    "                          Activation, Dense, BatchNormalization)\n",
    "from keras.preprocessing.image import ImageDataGenerator\n",
    "import keras_tuner as kt\n",
    "\n",
    "from save_answer import add_to_answer"
   ]
  },
  {
   "cell_type": "markdown",
   "metadata": {},
   "source": [
    "---\n",
    "\n",
    "## Введение\n",
    "\n",
    "Центральное понятие в машинном обучении - **модель**. Задачей машинного обучения является создание (обучение) модели, максимально <u>качественно</u> описывающей обучающие <u>данные</u>. Цель - получить модель, способную делать полезные предсказания по новым данным.\n",
    "\n",
    "При этом критерии <u>качества</u> могут быть различными, и сильно влияют на результирующую модель. Определить *идеальный критерий*, подходящий для любого случая сложно (или невозможно). Это обусловлено как минимум двумя проблемами:\n",
    "* Данные частично некорректны - содержат шум и выбросы.\n",
    "    Шум возникает, например, из-за неточности измерений, а выбросы - чаще из-за ошибок; \n",
    "* Данные могут быть неполны - не полностью отражать действительность.\n",
    "\n",
    "Для получения полезной с практической точки зрения модели, надо учитывать, что обучающие данные (training set) могут отличаться от данных, на которых требуется вычислять предсказания (evaluation / test set). \n",
    "\n",
    "\n",
    "Как правило задачи машинного обучения разделяют на две категории:\n",
    "\n",
    "**1. [Обучение без учителя](https://scikit-learn.org/stable/unsupervised_learning.html)**\n",
    "\n",
    "* [Кластеризация](https://scikit-learn.org/stable/modules/clustering.html);\n",
    "* [Поиск ассоциативных правил](https://ru.wikipedia.org/wiki/Обучение_ассоциативным_правилам);\n",
    "* [Понижение размерности](https://scikit-learn.org/stable/modules/unsupervised_reduction.html);\n",
    "* [Поиск выбросов](https://scikit-learn.org/stable/modules/outlier_detection.html).\n",
    "\n",
    "**2. [Обучение с учителем](https://scikit-learn.org/stable/supervised_learning.html)**\n",
    "\n",
    "* [Классификация](https://scikit-learn.org/stable/auto_examples/classification/plot_classifier_comparison.html);\n",
    "* Регрессия;\n",
    "* Ранжирование;\n",
    "* [Анализ выживаемости / рисков](https://nbviewer.jupyter.org/github/sebp/scikit-survival/blob/master/examples/00-introduction.ipynb).\n",
    "\n",
    "Но также есть множество задач, не вписывающихся в эти категории, например:\n",
    "\n",
    "* Multiple-instance Learning - целевые значения сопоставлены группам (bag) наблюдений;\n",
    "* One-shot Learning - классификация с одним обучающим примером для каждого класса;\n",
    "* Similarity Learning - поиск меры схожести объектов;\n",
    "* Reinforcement Learning - обучение модели, совершающей действия в ходе взаимодействия со средой;\n",
    "* Collaborative Filtering - построение рекомендаций;\n",
    "* Natural Language Processing: машинный перевод, QA - получение текстового ответа на текстовый вопрос;\n",
    "* Перенос стиля, генерирование изображений.\n",
    "\n",
    "Поэтому перед созданием модели лучше не сразу пытаться свести задачу к базовым задачам машинного обучения (классификации, регрессии), а поискать модели, использующие специфику области. Например, для машинного перевода специфичен порядок слов в предложении, и правильных переводов может быть несколько - решение задачи без использования этих особенностей приводит к крайне плохим результатам. "
   ]
  },
  {
   "cell_type": "markdown",
   "metadata": {},
   "source": [
    "### Overfitting / Underfitting\n",
    "\n",
    "Чтобы полученная модель была практически применима, надо соблюсти баланс между переобучением (overfitting) и недообучением (underfitting):\n",
    "* переобучение возникает, когда модель имеет минимальную ошибку на обучающем множестве, и значительно большую на тестовом;\n",
    "* недообучение возникает при использовании слишком простых моделей, которые не могут обеспечить достаточно маленькую среднюю ошибку даже на тренировочных данных.\n",
    "\n",
    "В качестве примера рассмотрим задачу одномерной регрессии с синтетическими данными:\n",
    "\n",
    "Обучающее множество: $\\{(x_i, y_i)\\}_{i=1}^{n}$,\n",
    "где $x_i$ - наблюдения $x \\sim U([0; 1]); \\varepsilon \\sim N(0, 0.1)$, \n",
    "$y = f(x) + \\varepsilon$,\n",
    "\n",
    "$f(x) = \\cos(5 x + \\frac{\\pi}{2})$\n",
    "\n",
    "Для простоты будем использовать полиномиальную модель:"
   ]
  },
  {
   "cell_type": "code",
   "execution_count": 4,
   "metadata": {},
   "outputs": [
    {
     "data": {
      "image/png": "[encoded data removed]",
      "text/plain": [
       "<Figure size 1080x288 with 3 Axes>"
      ]
     },
     "metadata": {
      "needs_background": "light"
     },
     "output_type": "display_data"
    }
   ],
   "source": [
    "np.random.seed(239)\n",
    "\n",
    "def f(x):\n",
    "    return np.cos(x * 5 + np.pi/2)\n",
    "\n",
    "X = np.sort(np.random.rand(20))\n",
    "y = f(X) + np.random.normal(0, 0.1, len(X))\n",
    "\n",
    "fig, ax = plt.subplots(1, 3, figsize=(15, 4))\n",
    "X_lin = np.linspace(0, 1, 50)  # массив 50 чисел от 0 до 1\n",
    "titles = [\"Underfit. Degree = 2\", \"Best fit. Degree = 4\", \"Overfit. Degree = 12\"]\n",
    "for i, title in enumerate(titles):\n",
    "    ax[i].set_title(title)\n",
    "    ax[i].scatter(X, y)  # наблюдения\n",
    "    ax[i].plot(X_lin, f(X_lin), color='g')  # целевая функция\n",
    "# модель - полином, подбор коэффициентов - МНК\n",
    "predictor_underfit = np.poly1d(np.polyfit(X, y, deg=2))\n",
    "ax[0].plot(X_lin, predictor_underfit(X_lin))\n",
    "\n",
    "predictor_best = np.poly1d(np.polyfit(X, y, deg=4))\n",
    "ax[1].plot(X_lin, predictor_best(X_lin))\n",
    "ax[1].plot(X_lin, f(X_lin), color='g')\n",
    "\n",
    "predictor_overfit = np.poly1d(np.polyfit(X, y, deg=12))\n",
    "ax[2].plot(X_lin, predictor_overfit(X_lin))\n",
    "ax[2].plot(X_lin, f(X_lin), color='g')\n",
    "\n",
    "ax[0].legend([\"f(x)\", \"Prediction\", \"Observation\"])\n",
    "\n",
    "plt.show()"
   ]
  },
  {
   "cell_type": "markdown",
   "metadata": {},
   "source": [
    "Заметим, что третий вариант аппроксимации функции (с переобучением) очевидно не может быть использован на практике. Как минимум, из-за слишком больших значений в промежутке от 0 до 0.1.\n",
    "\n",
    "Однако о первом варианте (с недообучением) такого сказать нельзя. Хотя полученная функция не совпадает с $f(x)$, она достаточно неплохо оценивает обучающее множество. На практике при малом числе наблюдений и большой размерности пространства сложные модели скорей всего будут склонны к переобучению, тогда как простые, вроде линейной регрессии, будут давать хоть насколько-то верную аппрокимацию.\n",
    "\n",
    "Посмотрим на ошибки в данном примере на обучающем множестве:"
   ]
  },
  {
   "cell_type": "code",
   "execution_count": 5,
   "metadata": {},
   "outputs": [
    {
     "name": "stdout",
     "output_type": "stream",
     "text": [
      "Underfit. Degree = 2\n",
      "MSE: 0.060, MAE: 0.206, R^2: 0.894\n",
      "\n",
      "Best fit. Degree = 4\n",
      "MSE: 0.007, MAE: 0.068, R^2: 0.987\n",
      "\n",
      "Overfit. Degree = 12\n",
      "MSE: 0.005, MAE: 0.045, R^2: 0.992\n",
      "\n"
     ]
    }
   ],
   "source": [
    "def print_err(title, model, x, y_true):\n",
    "    mse = mean_squared_error(y_true, model(x))\n",
    "    mae = mean_absolute_error(y_true, model(x))\n",
    "    r2  = r2_score(y_true, model(x))\n",
    "    print(title)\n",
    "    print(f\"MSE: {mse:.3f}, MAE: {mae:.3f}, R^2: {r2:.3f}\\n\")\n",
    "\n",
    "for i, model in enumerate([predictor_underfit, predictor_best, predictor_overfit]):\n",
    "    print_err(titles[i], model, X, y)"
   ]
  },
  {
   "cell_type": "markdown",
   "metadata": {},
   "source": [
    "Здесь $R^2$ - это коэффициент детерминации. Его множество значений от $-\\infty$ до $1$.\n",
    "\n",
    "Эти значения ошибок показывают насколько хорошо модель смогла запомнить обучающие данные.\n",
    "\n",
    "Попробуем применить модель к новым данным:"
   ]
  },
  {
   "cell_type": "code",
   "execution_count": 6,
   "metadata": {},
   "outputs": [
    {
     "name": "stdout",
     "output_type": "stream",
     "text": [
      "Underfit. Degree = 2\n",
      "MSE: 0.060, MAE: 0.205, R^2: 0.887\n",
      "\n",
      "Best fit. Degree = 4\n",
      "MSE: 0.010, MAE: 0.079, R^2: 0.982\n",
      "\n",
      "Overfit. Degree = 12\n",
      "MSE: 0.527, MAE: 0.335, R^2: 0.007\n",
      "\n"
     ]
    }
   ],
   "source": [
    "X_test = np.sort(np.random.rand(200))\n",
    "y_test = f(X_test) + np.random.normal(0, 0.1, len(X_test))\n",
    "\n",
    "for i, model in enumerate([predictor_underfit, predictor_best, predictor_overfit]):\n",
    "    print_err(titles[i], model, X_test, y_test)"
   ]
  },
  {
   "cell_type": "markdown",
   "metadata": {},
   "source": [
    "Видно, что качество предсказания первых двух моделей почти не упало, когда как третья (переобученная) даёт ошибку на два порядка больше. Таким образом можно выбрать наиболее корректную модель.\n",
    "\n",
    "Формально, разность между риском (математическим ожиданием ошибки) и эмпирическим риском (средним значением ошибки на обучающем множестве), называется **переобученностью**.\n",
    "\n",
    "В примере мы смогли **сгенерировать** новый набор данных, на котором проверяли насколько хорошо подходит модель, **приближая** значение переобученности (вместо математического ожидания ошибки мы вычисляли среднюю, но **не** на обучающем множестве). На практике сгенерировать новый набор данных может быть трудоёмко, или вообще невозможно, поэтому нужно уметь оценивать модель, имея только один (тренировочный) набор данных. Но как?"
   ]
  },
  {
   "cell_type": "markdown",
   "metadata": {},
   "source": [
    "### Кросс-валидация (Cross-Validation)\n",
    "\n",
    "Для того, чтобы понять насколько хорошо подходит модель, воспользуемся [перекрёстной проверкой](https://ru.wikipedia.org/wiki/Перекрёстная_проверка) на имеющихся обучающих данных: будем обучать модель $k$ раз, каждый раз выделяя $k-1$ долей обучающего множества для обучения модели (с нуля), используя оставшуюся долю для оценки качества. Это позволит оценить не только качество модели, но и чувствительность к обучающим данным, причём численно.\n",
    "\n",
    "Часто модели имеют гиперпараметры (параметры, значения которых фиксируются до начала обучения, например количество слоёв в нейронной сети). В примере выше гиперпараметр - это степень полинома. Подберём оптимальные гиперпараметры с помощью C-V. Для этого можно воспользоваться одной из следующих готовых реализаций:\n",
    "* [Grid-search C-V](https://scikit-learn.org/stable/modules/generated/sklearn.model_selection.GridSearchCV.html) - перебор значений гиперпараметров на некоторой сетке;\n",
    "* [Randomized search C-V](https://scikit-learn.org/stable/modules/generated/sklearn.model_selection.RandomizedSearchCV.html) - перебор случайных значений гиперпараметров;\n",
    "* [Bayesian C-V](https://scikit-optimize.github.io/notebooks/bayesian-optimization.html) - перебор значений гиперпараметров, используя модифицируемое по ходу представление о форме поверхности ошибки. Реализован в библиотеке [hyperopt](https://hyperopt.github.io/hyperopt/).\n",
    "\n",
    "Наиболее популярный на данный момент метод - Bayesian C-V, но для простоты рассмотрим классический Grid-search C-V:"
   ]
  },
  {
   "cell_type": "code",
   "execution_count": 7,
   "metadata": {},
   "outputs": [
    {
     "name": "stdout",
     "output_type": "stream",
     "text": [
      "Best loss (-MSE): -0.13969269572542442\n",
      "Best parameters: {'polynomialfeatures__degree': 5}\n"
     ]
    }
   ],
   "source": [
    "# полиномиальный регрессор - то же самое, что линейная регрессия с признаками (x^0, x^1, x^2, ..., x^k)\n",
    "polynomial_regressor = make_pipeline(PolynomialFeatures(), LinearRegression())\n",
    "# сетка параметров степени полинома - целые значения от 0 до 14:\n",
    "parameters = {'polynomialfeatures__degree': range(15)}\n",
    "\n",
    "# scoring - минимизируемая метрика: https://scikit-learn.org/stable/modules/model_evaluation.html#scoring-parameter\n",
    "search = GridSearchCV(polynomial_regressor, parameters, cv=5, scoring='neg_mean_squared_error')\n",
    "search.fit(X[:, np.newaxis], y)\n",
    "print(f\"Best loss (-MSE): {search.best_score_}\")\n",
    "print(f\"Best parameters: {search.best_params_}\")"
   ]
  },
  {
   "cell_type": "markdown",
   "metadata": {},
   "source": [
    "Проблему переобучения также можно решать с помощью регуляризации (например, в случае линейных моделей – Lasso, Ridge). При этом возникают дополнительные параметры, которые имеет смысл также перебирать с помощью кросс-валидации."
   ]
  },
  {
   "cell_type": "markdown",
   "metadata": {},
   "source": [
    "## Продвинутые методы машинного обучения\n",
    "\n",
    "### Ансамблевые методы\n",
    "\n",
    "Основная идея ансамблевых методов заключается в построении набора различных примитивных базовых моделей и использовании их комбинации для предсказаний.\n",
    "\n",
    "Это позволяет бороться с двумя проблемами:\n",
    "1. Переобучение - за счёт различия моделей (структуры или данных, на которых модели обучаются);\n",
    "2. Низкое качество предсказаний - для большинства моделей за счёт т.н. \"мудрости толпы\".\n",
    "\n",
    "В качестве базовых моделей могут использоваться любые методы, от линейной регрессии до нейронных сетей, однако стоит учитывать, что:\n",
    "* время построения ансамбля сложных моделей будет очень велико. Простые же модели можно строить параллельно;\n",
    "* на [bias-variance trade-off](https://habr.com/ru/company/ods/blog/323890/#razlozhenie-oshibki-na-smeschenie-i-razbros-bias-variance-decomposition) влияет сложность каждой базовой модели и их количество. Наиболее сложные базовые модели не всегда позволяют получать лучшее качество.\n",
    "\n",
    "#### 1. Случайный лес\n",
    "\n",
    "Случайный лес - ансамбль решающих деревьев (построенных по CART). Финальный прогноз производится усреднением результатов работы каждого дерева.\n",
    "\n",
    "Для получения различных деревьев используются два принципа:\n",
    "* Bagging (Bootstrap aggregation) - выборка для каждого дерева формируется случайным образом (с возвратом) из тренировочной. Методы, использующие bagging всегда могут оценивать ошибку на \"out of bag\" элементах начальной выборки - тех, что не вошли ни в одну из подвыборок;\n",
    "* Random feature subspace - в качестве признаков каждое дерево рассматривает случайное подмножество исходных признаков.\n",
    "\n",
    "Одним из основных преимуществ случайных лесов для классификации является возможность предсказать не только класс, но и \"уверенность\" - аппроксимацию вероятности данного класса при условии входных данных. Также они могут применяться для подбора наиболее релевантных признаков - т.н. feature importances.\n",
    "\n",
    "Рассмотрим простую задачу регрессии House Prices:"
   ]
  },
  {
   "cell_type": "code",
   "execution_count": 8,
   "metadata": {},
   "outputs": [
    {
     "data": {
      "text/html": [
       "<div>\n",
       "<style scoped>\n",
       "    .dataframe tbody tr th:only-of-type {\n",
       "        vertical-align: middle;\n",
       "    }\n",
       "\n",
       "    .dataframe tbody tr th {\n",
       "        vertical-align: top;\n",
       "    }\n",
       "\n",
       "    .dataframe thead th {\n",
       "        text-align: right;\n",
       "    }\n",
       "</style>\n",
       "<table border=\"1\" class=\"dataframe\">\n",
       "  <thead>\n",
       "    <tr style=\"text-align: right;\">\n",
       "      <th></th>\n",
       "      <th>Id</th>\n",
       "      <th>MSSubClass</th>\n",
       "      <th>MSZoning</th>\n",
       "      <th>LotFrontage</th>\n",
       "      <th>LotArea</th>\n",
       "      <th>Street</th>\n",
       "      <th>Alley</th>\n",
       "      <th>LotShape</th>\n",
       "      <th>LandContour</th>\n",
       "      <th>Utilities</th>\n",
       "      <th>...</th>\n",
       "      <th>ScreenPorch</th>\n",
       "      <th>PoolArea</th>\n",
       "      <th>PoolQC</th>\n",
       "      <th>Fence</th>\n",
       "      <th>MiscFeature</th>\n",
       "      <th>MiscVal</th>\n",
       "      <th>MoSold</th>\n",
       "      <th>YrSold</th>\n",
       "      <th>SaleType</th>\n",
       "      <th>SaleCondition</th>\n",
       "    </tr>\n",
       "  </thead>\n",
       "  <tbody>\n",
       "    <tr>\n",
       "      <th>0</th>\n",
       "      <td>1.0</td>\n",
       "      <td>60.0</td>\n",
       "      <td>RL</td>\n",
       "      <td>65.0</td>\n",
       "      <td>8450.0</td>\n",
       "      <td>Pave</td>\n",
       "      <td>None</td>\n",
       "      <td>Reg</td>\n",
       "      <td>Lvl</td>\n",
       "      <td>AllPub</td>\n",
       "      <td>...</td>\n",
       "      <td>0.0</td>\n",
       "      <td>0.0</td>\n",
       "      <td>None</td>\n",
       "      <td>None</td>\n",
       "      <td>None</td>\n",
       "      <td>0.0</td>\n",
       "      <td>2.0</td>\n",
       "      <td>2008.0</td>\n",
       "      <td>WD</td>\n",
       "      <td>Normal</td>\n",
       "    </tr>\n",
       "    <tr>\n",
       "      <th>1</th>\n",
       "      <td>2.0</td>\n",
       "      <td>20.0</td>\n",
       "      <td>RL</td>\n",
       "      <td>80.0</td>\n",
       "      <td>9600.0</td>\n",
       "      <td>Pave</td>\n",
       "      <td>None</td>\n",
       "      <td>Reg</td>\n",
       "      <td>Lvl</td>\n",
       "      <td>AllPub</td>\n",
       "      <td>...</td>\n",
       "      <td>0.0</td>\n",
       "      <td>0.0</td>\n",
       "      <td>None</td>\n",
       "      <td>None</td>\n",
       "      <td>None</td>\n",
       "      <td>0.0</td>\n",
       "      <td>5.0</td>\n",
       "      <td>2007.0</td>\n",
       "      <td>WD</td>\n",
       "      <td>Normal</td>\n",
       "    </tr>\n",
       "    <tr>\n",
       "      <th>2</th>\n",
       "      <td>3.0</td>\n",
       "      <td>60.0</td>\n",
       "      <td>RL</td>\n",
       "      <td>68.0</td>\n",
       "      <td>11250.0</td>\n",
       "      <td>Pave</td>\n",
       "      <td>None</td>\n",
       "      <td>IR1</td>\n",
       "      <td>Lvl</td>\n",
       "      <td>AllPub</td>\n",
       "      <td>...</td>\n",
       "      <td>0.0</td>\n",
       "      <td>0.0</td>\n",
       "      <td>None</td>\n",
       "      <td>None</td>\n",
       "      <td>None</td>\n",
       "      <td>0.0</td>\n",
       "      <td>9.0</td>\n",
       "      <td>2008.0</td>\n",
       "      <td>WD</td>\n",
       "      <td>Normal</td>\n",
       "    </tr>\n",
       "    <tr>\n",
       "      <th>3</th>\n",
       "      <td>4.0</td>\n",
       "      <td>70.0</td>\n",
       "      <td>RL</td>\n",
       "      <td>60.0</td>\n",
       "      <td>9550.0</td>\n",
       "      <td>Pave</td>\n",
       "      <td>None</td>\n",
       "      <td>IR1</td>\n",
       "      <td>Lvl</td>\n",
       "      <td>AllPub</td>\n",
       "      <td>...</td>\n",
       "      <td>0.0</td>\n",
       "      <td>0.0</td>\n",
       "      <td>None</td>\n",
       "      <td>None</td>\n",
       "      <td>None</td>\n",
       "      <td>0.0</td>\n",
       "      <td>2.0</td>\n",
       "      <td>2006.0</td>\n",
       "      <td>WD</td>\n",
       "      <td>Abnorml</td>\n",
       "    </tr>\n",
       "    <tr>\n",
       "      <th>4</th>\n",
       "      <td>5.0</td>\n",
       "      <td>60.0</td>\n",
       "      <td>RL</td>\n",
       "      <td>84.0</td>\n",
       "      <td>14260.0</td>\n",
       "      <td>Pave</td>\n",
       "      <td>None</td>\n",
       "      <td>IR1</td>\n",
       "      <td>Lvl</td>\n",
       "      <td>AllPub</td>\n",
       "      <td>...</td>\n",
       "      <td>0.0</td>\n",
       "      <td>0.0</td>\n",
       "      <td>None</td>\n",
       "      <td>None</td>\n",
       "      <td>None</td>\n",
       "      <td>0.0</td>\n",
       "      <td>12.0</td>\n",
       "      <td>2008.0</td>\n",
       "      <td>WD</td>\n",
       "      <td>Normal</td>\n",
       "    </tr>\n",
       "  </tbody>\n",
       "</table>\n",
       "<p>5 rows × 80 columns</p>\n",
       "</div>"
      ],
      "text/plain": [
       "    Id  MSSubClass MSZoning  LotFrontage  LotArea Street Alley LotShape  \\\n",
       "0  1.0        60.0       RL         65.0   8450.0   Pave  None      Reg   \n",
       "1  2.0        20.0       RL         80.0   9600.0   Pave  None      Reg   \n",
       "2  3.0        60.0       RL         68.0  11250.0   Pave  None      IR1   \n",
       "3  4.0        70.0       RL         60.0   9550.0   Pave  None      IR1   \n",
       "4  5.0        60.0       RL         84.0  14260.0   Pave  None      IR1   \n",
       "\n",
       "  LandContour Utilities  ... ScreenPorch PoolArea PoolQC Fence MiscFeature  \\\n",
       "0         Lvl    AllPub  ...         0.0      0.0   None  None        None   \n",
       "1         Lvl    AllPub  ...         0.0      0.0   None  None        None   \n",
       "2         Lvl    AllPub  ...         0.0      0.0   None  None        None   \n",
       "3         Lvl    AllPub  ...         0.0      0.0   None  None        None   \n",
       "4         Lvl    AllPub  ...         0.0      0.0   None  None        None   \n",
       "\n",
       "  MiscVal MoSold  YrSold  SaleType  SaleCondition  \n",
       "0     0.0    2.0  2008.0        WD         Normal  \n",
       "1     0.0    5.0  2007.0        WD         Normal  \n",
       "2     0.0    9.0  2008.0        WD         Normal  \n",
       "3     0.0    2.0  2006.0        WD        Abnorml  \n",
       "4     0.0   12.0  2008.0        WD         Normal  \n",
       "\n",
       "[5 rows x 80 columns]"
      ]
     },
     "execution_count": 8,
     "metadata": {},
     "output_type": "execute_result"
    }
   ],
   "source": [
    "# Загружаем датасет\n",
    "# Функция загрузки fetch_openml возвращает пару pandas-датафреймов (таблиц, мы с ними знакомились в первой мини-лабораторной)\n",
    "housing_x, housing_y = fetch_openml(name=\"house_prices\", return_X_y=True, as_frame=True)\n",
    "\n",
    "# Посмотрим на фичи (признаки) из датасета\n",
    "housing_x.head()"
   ]
  },
  {
   "cell_type": "markdown",
   "metadata": {},
   "source": [
    "Видим, что в таблице есть не только числовые, но и категориальные признаки (например, `MSZoning`, `LotShape` и т.д.).\n",
    "\n",
    "Обработка категориальных признаков - отдельная тема, на которую обычно выделяется часть лекции. Мы же в рамках примера оставим только числовые признаки.\n",
    "\n",
    "_На самом деле код ниже уберёт столбцы, тип которых нечисловой, но это ещё не означает, что мы убрали категориальные признаки - некоторые категориальные признаки могут в данных быть выражены в числах - это мы в данном случае проигнорируем, но стоит об этом помнить._"
   ]
  },
  {
   "cell_type": "code",
   "execution_count": 9,
   "metadata": {},
   "outputs": [],
   "source": [
    "# Уберём все колонки, тип которых нечисловой\n",
    "housing_x = housing_x.select_dtypes(['number'])\n",
    "\n",
    "# Уберём все строки, где есть NaN - для этого надо убрать строки и в housing_x, и в housing_y.\n",
    "# Чтобы корректно почистить датафреймы, сначала соединим их в 1 датафрейм, почистим его, а потом \"расщепим\" обратно\n",
    "housing_merged = housing_x.join(housing_y)  # Соединяем датафреймы\n",
    "housing_merged = housing_merged.dropna(how='any')  # Чистим\n",
    "# Расщепляем датафрейм обратно на признаки объектов и их метки. В роли меток выступает SalePrice - цена дома\n",
    "housing_y, housing_x = housing_merged[\"SalePrice\"], housing_merged.drop(columns=\"SalePrice\")"
   ]
  },
  {
   "cell_type": "markdown",
   "metadata": {},
   "source": [
    "---\n",
    "\n",
    "#### Задание 1.\n",
    "\n",
    "В коде ниже приведён пример запуска `RandomForestRegressor`.\n",
    "\n",
    "Требуется подобрать параметры (кроме `random_state` и `oob_score`) у `RandomForestRegressor`, чтобы [коэффициент детерминации $R^2$](http://www.machinelearning.ru/wiki/index.php?title=Коэффициент_детерминации) (оценка качетва) увеличился на **тестовых данных** до **0.75**.\n",
    "\n",
    "_В этом задании и последующих рекомендуется использовать автоматический подбор гиперпараметров вместо того, чтобы подбирать гиперпараметры вручную после каждого обучения модели, которая не смогла достичь требуемого качества._"
   ]
  },
  {
   "cell_type": "code",
   "execution_count": 24,
   "metadata": {
    "scrolled": false
   },
   "outputs": [
    {
     "name": "stdout",
     "output_type": "stream",
     "text": [
      "Fitting 3 folds for each of 100 candidates, totalling 300 fits\n"
     ]
    },
    {
     "name": "stderr",
     "output_type": "stream",
     "text": [
      "C:\\Users\\VasilisaK\\anaconda3\\lib\\site-packages\\sklearn\\model_selection\\_split.py:684: UserWarning: The least populated class in y has only 1 members, which is less than n_splits=3.\n",
      "  warnings.warn(\n"
     ]
    },
    {
     "name": "stdout",
     "output_type": "stream",
     "text": [
      "{'n_estimators': 100, 'min_samples_split': 18, 'min_samples_leaf': 23, 'max_features': 'sqrt', 'max_depth': 8, 'bootstrap': True}\n",
      "Score (R^2) on train:\n",
      "Out of bag training score estimation: 0.7916839377094576\n",
      "Cross-validation on train score: 0.7878392990108549\n",
      "Train score: 0.8295716148657736\n",
      "Test score: 0.7721317117761567\n",
      "Требуемое качество на тестовых данных получено\n"
     ]
    }
   ],
   "source": [
    "def model_score(X, y, estimator=None, cv=3, scoring=None):\n",
    "    scores = cross_val_score(estimator, X, y, cv=cv, scoring=scoring)\n",
    "    return np.mean(scores)\n",
    "\n",
    "from sklearn.model_selection import RandomizedSearchCV\n",
    "from sklearn.ensemble import RandomForestClassifier\n",
    "\n",
    "\n",
    "X_train, X_test, y_train, y_test = train_test_split(housing_x, housing_y, test_size=0.25, random_state=12345)\n",
    "\n",
    "n_estimators = [int(x) for x in np.linspace(start = 100, stop = 1000, num = 10)]\n",
    "max_features = ['log2', 'sqrt']\n",
    "max_depth = [int(x) for x in np.linspace(start = 1, stop = 15, num = 15)]\n",
    "min_samples_split = [int(x) for x in np.linspace(start = 2, stop = 50, num = 10)]\n",
    "min_samples_leaf = [int(x) for x in np.linspace(start = 2, stop = 50, num = 10)]\n",
    "bootstrap = [True, False]\n",
    "param_dist = {'n_estimators': n_estimators,\n",
    "               'max_features': max_features,\n",
    "               'max_depth': max_depth,\n",
    "               'min_samples_split': min_samples_split,\n",
    "               'min_samples_leaf': min_samples_leaf,\n",
    "               'bootstrap': bootstrap}\n",
    "rfc = RandomForestClassifier()\n",
    "rs = RandomizedSearchCV(rfc,\n",
    "                        param_dist, \n",
    "                        n_iter = 100, \n",
    "                        cv = 3, \n",
    "                        verbose = 1, \n",
    "                        n_jobs=-1, \n",
    "                        random_state=0)\n",
    "rs.fit(X_train, y_train)\n",
    "print(rs.best_params_)\n",
    "\n",
    "\n",
    "\n",
    "# Ваши значения параметров - это параметры для RandomForestRegressor,\n",
    "# указанные в словаре housing_params\n",
    "housing_params = {\n",
    "    \"n_estimators\": 100,\n",
    "    \"max_depth\": 8,\n",
    "    \"min_samples_split\": 18,\n",
    "    \"min_samples_leaf\": 23,\n",
    "    \"criterion\": 'squared_error',\n",
    "}\n",
    "\n",
    "housing_rf = RandomForestRegressor(\n",
    "    # `random_state` оставьте зафиксированным, чтобы можно было повторить ваш результат\n",
    "    random_state=12345,\n",
    "    oob_score=True,\n",
    "    # две звёздочки означают раскрытие словаря и передачу именованных параметров из словаря\n",
    "    # прямо в конструктор RandomForestRegressor\n",
    "    **housing_params,\n",
    ")\n",
    "\n",
    "\n",
    "housing_rf.fit(X_train, y_train)\n",
    "\n",
    "cv_score = model_score(X_train, y_train, estimator=housing_rf, cv=10, scoring='r2')\n",
    "train_score = housing_rf.score(X_train, y_train)\n",
    "test_score = housing_rf.score(X_test, y_test)\n",
    "oob_score = housing_rf.oob_score_\n",
    "print(\"Score (R^2) on train:\")\n",
    "print(f\"Out of bag training score estimation: {oob_score}\")\n",
    "print(f\"Cross-validation on train score: {cv_score}\")\n",
    "print(f\"Train score: {train_score}\")\n",
    "print(f\"Test score: {test_score}\")\n",
    "print(\"Требуемое качество на тестовых данных \" + (\"получено\" if test_score > 0.75 else \"НЕ получено\"))"
   ]
  },
  {
   "cell_type": "markdown",
   "metadata": {},
   "source": [
    "Не забудьте сохранить ответы"
   ]
  },
  {
   "cell_type": "code",
   "execution_count": 25,
   "metadata": {},
   "outputs": [],
   "source": [
    "rf_housing_model_path = os.path.join(\"models\", \"task_1.joblib\")\n",
    "# Создаём папку, куда сохраним результаты, если папки ещё нет\n",
    "Path(\"models\").mkdir(parents=True, exist_ok=True)\n",
    "\n",
    "joblib.dump(housing_rf, rf_housing_model_path)  # Сохраняем итоговую модель\n",
    "\n",
    "add_to_answer(\n",
    "    \"task_1\",\n",
    "    {\n",
    "        # Перед сохранением убедитесь, что подобранные параметры\n",
    "        # действительно содержатся в словаре housing_params!\n",
    "        \"params\": housing_params,\n",
    "        \"model_path\": rf_housing_model_path,\n",
    "    },\n",
    ")"
   ]
  },
  {
   "cell_type": "markdown",
   "metadata": {},
   "source": [
    "---\n",
    "\n",
    "Ещё одной интересной особенностью ансамблей деревьев является возможность подсчитать \"*важность*\" признаков. Сделаем это для рассматриваемого датасета:"
   ]
  },
  {
   "cell_type": "code",
   "execution_count": 26,
   "metadata": {
    "scrolled": false
   },
   "outputs": [
    {
     "data": {
      "image/png": "[encoded data removed]",
      "text/plain": [
       "<Figure size 1080x360 with 1 Axes>"
      ]
     },
     "metadata": {
      "needs_background": "light"
     },
     "output_type": "display_data"
    }
   ],
   "source": [
    "importances = housing_rf.feature_importances_\n",
    "\n",
    "ind = np.argsort(importances)[-10:]  # Найдём индексы топ-10 самых важных признаков\n",
    "\n",
    "plt.figure(figsize=(15, 5))\n",
    "plt.barh(housing_x.columns[ind], importances[ind])\n",
    "plt.title(\"Feature importances\")\n",
    "plt.show()"
   ]
  },
  {
   "cell_type": "markdown",
   "metadata": {},
   "source": [
    "Помимо того, что *важность* признаков сама по себе может быть полезной информацией для конечного пользователя, на основе неё можно производить автоматический отбор признаков.\n",
    "\n",
    "Однако следует быть осторожным с использованием такого механизма. Жадная природа алгоритма построения дерева решений может привести к неадекатным значениям такой *важности* признаков. Более надёжных методом (но тоже не идеальным!), подходящим для любых моделей, а не только для лесов, является, например, *permutation importance*.\n",
    "\n",
    "На практике помимо базового Random Forest также применяют модификации:\n",
    "* Extra Random Trees - деревья строятся не по алгоритму CART, вместо этого каждое правило деления (split point) выбирается случайным образом, после чего выбирается наиболее релевантный признак. Получается быстрое время построения, но не минимальная ошибка;\n",
    "* Rotation Random Forest - перед построением каждого дерева к набору предназначенных ему признаков применяется PCA (что означает поворот осей). Такой метод полезно использовать при больших размерностях пространства признаков.\n",
    "\n",
    "#### 2. [Градиентный бустинг](https://en.wikipedia.org/wiki/Gradient_boosting)\n",
    "\n",
    "Градиентный бустинг тоже является ансамблевым методом и имеет следующие особенности:\n",
    "* деревья строятся последовательно - каждая следующая модель старается улучшить ошибку предыдущей, аппроксимируя антиградиент <u>функции потерь</u>;\n",
    "* результат работы считается как взвешенная сумма результатов базовых моделей, веса которой определяются линейным поиском на этапе построения ансамбля;\n",
    "* в случае классификации, в сравнении со случайными лесами, градиентный бустинг не позволяет хранить в листьях деревьев классы напрямую. Вместо этого алгоритм находит вероятности классов, как в логистической регрессии. Попробуйте ответить почему это так?\n",
    "\n",
    "Модели, опирающиеся на градиентный бустинг часто дают наиболее высокое качество, в сравнении со случайными лесами, линейной регрессией, SVM и т.д.\n",
    "Однако используя градиентный бустинг гораздо легче прийти к переобучению.\n",
    "\n",
    "Одним из способов борьбы с переобучением является введение скорости обучения `learning rate` - константного множителя для каждой новой базовой модели.\n",
    "\n",
    "Посмотрим как градиентный бустинг справляется с задачей регрессии на том же датасете:"
   ]
  },
  {
   "cell_type": "code",
   "execution_count": 27,
   "metadata": {},
   "outputs": [
    {
     "name": "stdout",
     "output_type": "stream",
     "text": [
      "Score (R^2) on train:\n",
      "Cross-validation on train score: 0.8856070965266938\n",
      "Train score: 0.9719089934613121\n",
      "Test score: 0.7141863612063776\n"
     ]
    }
   ],
   "source": [
    "housing_gbm = GradientBoostingRegressor(\n",
    "    loss='squared_error',\n",
    "    learning_rate=0.1,\n",
    "    n_estimators=100,\n",
    "    subsample=.5,  # стохастический бустинг - деревья строятся по случайным подвыборкам\n",
    "    criterion='friedman_mse',\n",
    "    max_depth=3,\n",
    "    random_state=12345,\n",
    ")\n",
    "housing_gbm.fit(X_train, y_train)\n",
    "\n",
    "cv_score = model_score(X_train, y_train, estimator=housing_gbm, cv=10, scoring='r2')\n",
    "train_score = housing_gbm.score(X_train, y_train)\n",
    "test_score = housing_gbm.score(X_test, y_test)\n",
    "\n",
    "print(\"Score (R^2) on train:\")\n",
    "print(f\"Cross-validation on train score: {cv_score}\")\n",
    "print(f\"Train score: {train_score}\")\n",
    "print(f\"Test score: {test_score}\")"
   ]
  },
  {
   "cell_type": "markdown",
   "metadata": {},
   "source": [
    "На практике градиентный бустинг из библиотеки sklearn обычно не применяют. Вместо него используют одну из трёх(+) библиотек, в каждой из которых реализованы свои усовершенствования оригинального алгоритма:\n",
    "* [XGBoost](https://xgboost.readthedocs.io/en/latest/) - первая библиотека, реализующая градиентный бустинг на GPU (2014 год);\n",
    "* [LightGBM](https://lightgbm.readthedocs.io/en/latest/) - библиотека от Microsoft Research (2017 год), в которой реализована обработка категориальных признаков и усовершенствования производительности;\n",
    "* **[CatBoost](https://catboost.ai/)** - библиотека от Yandex (2017 год), в которой реализована продвинутая обработка категориальных признаков и методы борьбы с переобучением. Чаще всего в задачах с категориальными признаками CatBoost работает лучше других алгоритмов даже без подстройки параметров, однако чтобы ощутить преимущество следует не применять препроцессинг для категориальных признаков. По словам команды разработчиков, использованный метод построения симметричных деревьев (Oblivious Trees) даёт прирост в качестве во всех случаях. Хотя определяющий фактор для применения таких деревьев – эффективность реализации на GPU.\n",
    "\n",
    "Проверим смелое утверждение разработчиков `CatBoost`, не меняя ни одного параметра:"
   ]
  },
  {
   "cell_type": "code",
   "execution_count": 28,
   "metadata": {},
   "outputs": [
    {
     "name": "stdout",
     "output_type": "stream",
     "text": [
      "Score (R^2) on train:\n",
      "Cross-validation on train score: 0.897932185925525\n",
      "Train score: 0.9230097644728974\n",
      "Test score: 0.8046633561162339\n"
     ]
    }
   ],
   "source": [
    "housing_catboost = CatBoostRegressor(\n",
    "    verbose=False,\n",
    "    allow_writing_files=False,  # не пишем логи, о них ниже\n",
    "    task_type='CPU',  # или 'GPU'\n",
    ")\n",
    "housing_catboost.fit(X_train, y_train, eval_set=(X_test, y_test))\n",
    "\n",
    "cv_score = model_score(X_train, y_train, estimator=housing_catboost, cv=10, scoring='r2')\n",
    "train_score = r2_score(y_train, housing_catboost.predict(X_train))\n",
    "test_score = r2_score(y_test, housing_catboost.predict(X_test))\n",
    "\n",
    "print(\"Score (R^2) on train:\")\n",
    "print(f\"Cross-validation on train score: {cv_score}\")\n",
    "print(f\"Train score: {train_score}\")\n",
    "print(f\"Test score: {test_score}\")"
   ]
  },
  {
   "cell_type": "markdown",
   "metadata": {},
   "source": [
    "#### Визуализация\n",
    "\n",
    "При обучении моделей градиентного бустинга или сетей очень полезно строить графики функции потерь для тренировочной и тестовой выборок.\n",
    "\n",
    "*CatBoost* сохраняет логи обучения по умолчанию (если `allow_writing_files == True`) в формат, совместимый с *TensorBoard* и *CatBoost Viewer*. Использовать *TensorBoard* для просмотра логов крайне удобно: достаточно установить *TensorBoard* (`pip install tensorboard`) и запустить его командой `tensorboard --logdir=catboost_info`. Сохранять результаты запусков алгоритма с различными параметрами можно с помощью записи логов в подкаталоги с уникальными именами. С установкой *CatBoostViewer* могут возникнуть небольшие сложности, поскольку он реализован с использованием *NodeJS*."
   ]
  },
  {
   "cell_type": "markdown",
   "metadata": {},
   "source": [
    "### Нейронные сети\n",
    "\n",
    "Если вы планируете использовать нейронные сети, имеет смысл ознакомиться с [этим](https://github.com/abidlabs/AtomsOfDeepLearning/blob/master/Atomic%20Experiments%20in%20Deep%20Learning.ipynb) ноутбуком (но для выполнения лабораторной это не обязательно). \n",
    "\n",
    "С нейронными сетями чаще всего гораздо сложнее работать, чем с градиентным бустингом: приходится подбирать архитектуру, настраивать огромное число гиперпараметров; нет возможности узнать, по какому принципу сеть находит ответ. Однако есть ситуации, в которых нейронные сети просто не имеют адекватно работающих альтернатив:\n",
    "* обработка изображений, видео - Convolutional NN;\n",
    "* построение эмбеддинга с учителем и без учителя - AutoEncoder, Siamese NN;\n",
    "* работа с последовательностями, в том числе генерирование - Recurrent NN и **Transformer**;\n",
    "* создание генеративных моделей без учителя - Generative Adversarial Networks, Noise Conditional Score Network, и т.д.\n",
    "\n",
    "Большая часть преимуществ достигается из-за возможности точно управлять целью обучения с помощью функции потерь, а также возможности использовать части обученной сети для решения новой задачи. Например, научив сеть предсказывать корректность словосочетания, можно применять найденный сетью способ кодирования слов для нахождения семантической близости.\n",
    "\n",
    "#### Кратко о фреймворках\n",
    "\n",
    "Есть несколько актуальных на данный момент фреймворков для работы с нейронными сетями:\n",
    "* TensorFlow - построение статических графов вычислений, автоматический вывод градиентов, блоки для построения сетей. Имеет высокий \"порог вхождения\". С версии `2.0` поддерживает т.н. eager-вычисления, т.е. динамические графы. Обратная совместимость с версиями `1.*` частично отсутствует и может потреобвать переписывания части кода;\n",
    "* PyTorch - построение динамических графов вычислений, лёгкий перенос вычислений на GPU (требует изменения кода);\n",
    "* Keras - построение нейронных сетей из блоков. Вычисления производятся с помощью одного из низкоуровневых фреймворков (backend): TensorFlow, CNTK, Theano и др.\n",
    "\n",
    "Если не требуется реализовывать принципиально новый алгоритм машинного обучения, внедрять наиболее современные механизмы и т.д., проще всего использовать Keras.\n",
    "\n",
    "Для некоторых архитектур нейронных сетей пишут профильные оптимизированные решения (например, для [YOLO](https://pjreddie.com/darknet/yolo/) - алгоритма быстрого поиска объектов на изображениях реализована низкоуровневая поддержка в библиотеке [Darknet](https://github.com/pjreddie/darknet)). Фреймворки вроде TensorFlow, хоть и обеспечивающие работу с несколькими GPU в кластерах, часто проигрывают по производительности узкопрофильным решениям. На практике, если применяют TensorFlow, как правило используют [оптимизаторы](https://developer.nvidia.com/tensorrt) для ускорения инференса, а для этапа тренировки тратят приличное число ресурсов.\n",
    "\n",
    "\n",
    "#### Пример\n",
    "\n",
    "Воспользуемся фреймворком `Keras`, который работает на `Tensorflow`."
   ]
  },
  {
   "cell_type": "markdown",
   "metadata": {},
   "source": [
    "Построим сеть для решения задачи регрессии, рассмотренной выше.\n",
    "\n",
    "В Keras удобно строить сеть как последовательность слоёв, для этого используется *Sequential*-модель:"
   ]
  },
  {
   "cell_type": "code",
   "execution_count": 29,
   "metadata": {},
   "outputs": [],
   "source": [
    "def make_dense_model():\n",
    "    model = Sequential()\n",
    "    model.add(Dense(100, input_dim=X_train.shape[1]))\n",
    "    model.add(Activation('relu'))\n",
    "    model.add(Dense(200))\n",
    "    model.add(Activation('relu'))\n",
    "    model.add(Dense(60))\n",
    "    model.add(Activation('relu'))\n",
    "    model.add(Dense(1))\n",
    "    # чтобы модель можно было тренировать и использовать, необходимо её скомпилировать\n",
    "    model.compile(optimizer='adam', loss='mae')\n",
    "    \n",
    "    return model\n",
    "\n",
    "\n",
    "dense_model = make_dense_model()"
   ]
  },
  {
   "cell_type": "markdown",
   "metadata": {},
   "source": [
    "Попробуем натренировать модель:"
   ]
  },
  {
   "cell_type": "code",
   "execution_count": 30,
   "metadata": {},
   "outputs": [
    {
     "data": {
      "image/png": "[encoded data removed]",
      "text/plain": [
       "<Figure size 432x288 with 1 Axes>"
      ]
     },
     "metadata": {
      "needs_background": "light"
     },
     "output_type": "display_data"
    }
   ],
   "source": [
    "np.random.seed(1)\n",
    "set_random_seed(1)\n",
    "\n",
    "n_epochs = 800\n",
    "\n",
    "history = dense_model.fit(\n",
    "    X_train, y_train,\n",
    "    epochs=n_epochs,\n",
    "    # число примеров, на которых считается градиент:\n",
    "    batch_size=32,\n",
    "    validation_data=(X_test, y_test),\n",
    "    verbose=False,  # Отключаем вывод, чтобы не перегружать ноутбук лишним выводом\n",
    ")\n",
    "\n",
    "plt.plot(range(n_epochs), (history.history['loss']), c='b')\n",
    "plt.plot(range(n_epochs), (history.history['val_loss']), c='g')\n",
    "plt.legend(['Train Loss', 'Validation loss'])\n",
    "plt.show()"
   ]
  },
  {
   "cell_type": "markdown",
   "metadata": {},
   "source": [
    "Рассмотрим параметры обучения:\n",
    "* `epochs` - число эпох. Эпоха заканчивается, когда сеть увидела все примеры тренировочного множества;\n",
    "* `batch_size` - размер мини-батча. В [SGD](http://www.machinelearning.ru/wiki/index.php?title=Стохастический_градиентный_спуск) элементы обучающей выборки разбиваются на группы (мини-батчи) и функция потерь, вместе с её производной, рассчитывается на мини-батчах. Веса обновляются после просмотра каждого мини-батча. Вычислительно выгодней, чтобы мини-батч был достаточно большого размера, поскольку в таком случае данные будут обрабатываться параллельно;\n",
    "* `validation_data` - данные для построения кривой ошибки на валидационных данных \"Validation loss\".\n",
    "\n",
    "По графику функции потерь (loss) можно судить о том, имеет ли смысл обучать сеть большее число итераций.\n",
    "\n",
    "Посмотрим на качество полученной сети:"
   ]
  },
  {
   "cell_type": "code",
   "execution_count": 31,
   "metadata": {},
   "outputs": [
    {
     "name": "stdout",
     "output_type": "stream",
     "text": [
      "27/27 [==============================] - 0s 1ms/step\n",
      "9/9 [==============================] - 0s 1ms/step\n",
      "Train score: 0.9332390777172423\n",
      "Test score: 0.6655895874414526\n"
     ]
    }
   ],
   "source": [
    "train_score = r2_score(y_train, dense_model.predict(X_train))\n",
    "test_score  = r2_score(y_test, dense_model.predict(X_test))\n",
    "\n",
    "print(f\"Train score: {train_score}\")\n",
    "print(f\"Test score: {test_score}\")"
   ]
  },
  {
   "cell_type": "markdown",
   "metadata": {},
   "source": [
    "Получить те же результаты можно за меньшее число эпох обучения с помощью стандартизации входных данных.\n",
    "Так происходит из-за того, что в противном случае сети приходится самой сначала \"искать положение данных\".\n",
    "\n",
    "Сделаем предобработку с помощью `StandardScaler` для векторов признаков и `MinMaxScaler` для целевого.\n",
    "А после каждого полносвязного (`Dense`) слоя поставим `BatchNormalization` - этот механизм стандартизации внутри сети рекомендуется применять почти во всех случаях. Грубо говоря, без него каждый слой сам должен \"искать положение\" своих входных данных, хотя эту операцию можно сделать явно."
   ]
  },
  {
   "cell_type": "code",
   "execution_count": 32,
   "metadata": {},
   "outputs": [],
   "source": [
    "X_train, X_test = X_train.to_numpy(), X_test.to_numpy()\n",
    "y_train, y_test = y_train.to_numpy(), y_test.to_numpy()"
   ]
  },
  {
   "cell_type": "code",
   "execution_count": 33,
   "metadata": {
    "scrolled": true
   },
   "outputs": [
    {
     "data": {
      "image/png": "[encoded data removed]",
      "text/plain": [
       "<Figure size 432x288 with 1 Axes>"
      ]
     },
     "metadata": {
      "needs_background": "light"
     },
     "output_type": "display_data"
    }
   ],
   "source": [
    "np.random.seed(1)\n",
    "set_random_seed(1)\n",
    "\n",
    "scaler = StandardScaler()\n",
    "target_scaler = MinMaxScaler()\n",
    "X_train_scaled = scaler.fit_transform(X_train)\n",
    "y_train_scaled = target_scaler.fit_transform(y_train.reshape(y_train.shape[0], 1))\n",
    "X_test_scaled = scaler.transform(X_test)\n",
    "y_test_scaled = target_scaler.transform(y_test.reshape(y_test.shape[0], 1))\n",
    "\n",
    "\n",
    "def make_dense_scaled_model():\n",
    "    model = Sequential()\n",
    "    model.add(Dense(100, input_dim=X_train.shape[1]))\n",
    "    model.add(BatchNormalization())\n",
    "    model.add(Activation('relu'))\n",
    "    model.add(Dense(200))\n",
    "    # Добавились слои BatchNormalization\n",
    "    model.add(BatchNormalization())\n",
    "    model.add(Activation('relu'))\n",
    "    model.add(BatchNormalization())\n",
    "    model.add(Dense(60))\n",
    "    model.add(Activation('relu'))\n",
    "    model.add(Dense(1))\n",
    "    model.compile(optimizer='adam', loss='mae')\n",
    "    return model\n",
    "    \n",
    "    \n",
    "dense_scaled_model = make_dense_scaled_model()\n",
    "\n",
    "history = dense_scaled_model.fit(X_train_scaled, y_train_scaled,\n",
    "                                 epochs=n_epochs,\n",
    "                                 batch_size=32,\n",
    "                                 validation_data=(X_test_scaled, y_test_scaled),\n",
    "                                 verbose=False)\n",
    "\n",
    "plt.plot(range(len(history.history['loss'])), history.history['loss'], c='b')\n",
    "plt.plot(range(len(history.history['val_loss'])), history.history['val_loss'], c='g')\n",
    "plt.legend(['Train Loss', 'Validation loss'])\n",
    "plt.show()"
   ]
  },
  {
   "cell_type": "code",
   "execution_count": 34,
   "metadata": {},
   "outputs": [
    {
     "name": "stdout",
     "output_type": "stream",
     "text": [
      "27/27 [==============================] - 0s 1ms/step\n",
      "9/9 [==============================] - 0s 1ms/step\n",
      "Train score: 0.987747177080703\n",
      "Test score: 0.7510153917936089\n"
     ]
    }
   ],
   "source": [
    "def scaled_predict(model, X, target_scaler=target_scaler):\n",
    "    return target_scaler.inverse_transform(model.predict(X))\n",
    "\n",
    "\n",
    "train_score = r2_score(y_train, scaled_predict(dense_scaled_model, X_train_scaled))\n",
    "test_score  = r2_score(y_test, scaled_predict(dense_scaled_model, X_test_scaled))\n",
    "\n",
    "print(f\"Train score: {train_score}\")\n",
    "print(f\"Test score: {test_score}\")"
   ]
  },
  {
   "cell_type": "markdown",
   "metadata": {},
   "source": [
    "Почистим ресурсы - освободим память от обученных моделей, чтобы приступить к следующей части лабораторной работы"
   ]
  },
  {
   "cell_type": "code",
   "execution_count": 35,
   "metadata": {},
   "outputs": [],
   "source": [
    "del dense_model\n",
    "del dense_scaled_model"
   ]
  },
  {
   "cell_type": "markdown",
   "metadata": {},
   "source": [
    "---"
   ]
  },
  {
   "cell_type": "markdown",
   "metadata": {},
   "source": [
    "### Нейронные сети для обработки изображений"
   ]
  },
  {
   "cell_type": "markdown",
   "metadata": {},
   "source": [
    "Загрузим датасет fashion mnist, содержащий изображения одежды (grayscale 28x28) 10 различных классов:"
   ]
  },
  {
   "cell_type": "code",
   "execution_count": 36,
   "metadata": {},
   "outputs": [
    {
     "name": "stdout",
     "output_type": "stream",
     "text": [
      "Downloading data from https://storage.googleapis.com/tensorflow/tf-keras-datasets/train-labels-idx1-ubyte.gz\n",
      "29515/29515 [==============================] - 0s 2us/step\n",
      "Downloading data from https://storage.googleapis.com/tensorflow/tf-keras-datasets/train-images-idx3-ubyte.gz\n",
      "26421880/26421880 [==============================] - 22s 1us/step\n",
      "Downloading data from https://storage.googleapis.com/tensorflow/tf-keras-datasets/t10k-labels-idx1-ubyte.gz\n",
      "5148/5148 [==============================] - 0s 0s/step\n",
      "Downloading data from https://storage.googleapis.com/tensorflow/tf-keras-datasets/t10k-images-idx3-ubyte.gz\n",
      "4422102/4422102 [==============================] - 4s 1us/step\n"
     ]
    }
   ],
   "source": [
    "(train_images, train_labels), (test_images, test_labels) = fashion_mnist.load_data()\n",
    "classes = ['T-shirt', 'Trouser', 'Pullover', 'Dress', 'Coat', 'Sandal', 'Shirt', 'Sneaker', 'Bag', 'Ankle boot']\n",
    "\n",
    "# Переводим цвета из диапазона [0, 255] к диапазону [0, 1]\n",
    "train_images = train_images / 255.0\n",
    "test_images  = test_images / 255.0\n",
    "# Переводим числовые метки в категориальные - вместо номера класса от 0 до 9 будем использовать векторы\n",
    "# из 10 элементов, где все нули, кроме единицы на i-ой позиции для i-го класса.\n",
    "# Такой подход позволяет избежать негативных эффектов при обучении, т.к. между классами нет строгого линейного порядка,\n",
    "# как в случае с числами от 0 до 9.\n",
    "train_vectors = to_categorical(train_labels)\n",
    "test_vectors = to_categorical(test_labels)"
   ]
  },
  {
   "cell_type": "markdown",
   "metadata": {},
   "source": [
    "Будем пользоваться библиотекой `keras-tuner` для автоматического подбора гиперпараметров. Для того, чтобы с помощью этой библиотеки подобрать гиперпараметры, надо определить функцию, принимающую на вход специальный объект `hp` и возвращающую построенную модель.\n",
    "\n",
    "У объекта `hp` можно вызывать методы `Choice`, `Int`, `Boolean` и другие для указания, из каких значений перебирать гиперпараметры в данном месте.\n",
    "\n",
    "Ниже приведён пример кода, где определяется функция `build_model`, которая будет передана \"тюнеру\" для поиска лучших гиперпараметров."
   ]
  },
  {
   "cell_type": "code",
   "execution_count": 37,
   "metadata": {},
   "outputs": [],
   "source": [
    "np.random.seed(1)\n",
    "set_random_seed(1)\n",
    "\n",
    "def build_model(hp):\n",
    "    image_model = Sequential()\n",
    "    image_model.add(Reshape((28, 28, 1), input_shape=(28, 28)))\n",
    "    image_model.add(Conv2D(4, kernel_size=(3, 3), strides=(1, 1), activation='relu'))\n",
    "    image_model.add(BatchNormalization())\n",
    "    image_model.add(MaxPooling2D())\n",
    "    \n",
    "    # В следующем слое сообщаем keras tuner гиперпараметры, из которых надо искать лучшие\n",
    "    image_model.add(Conv2D(hp.Int(  # С помощью hp.Int перебираем целые числа в качестве гиперпараметров\n",
    "                                'second_conv2d_out_channels',  # название нашего гиперпараметра, для которого ищем значение\n",
    "                                min_value=4,\n",
    "                                max_value=5,\n",
    "                                step=1,\n",
    "                            ),\n",
    "                           kernel_size=(3, 3), strides=(1, 1),\n",
    "                           activation=hp.Choice(  # Перебираем значения в качестве гиперпараметров\n",
    "                               'second_conv2d_activation',  # название нашего гиперпараметра, для которого ищем значение\n",
    "                               ['relu', 'tanh'],  # список, из которого можно выбирать значения гиперпараметра\n",
    "                           )))\n",
    "    \n",
    "    # Следующий гиперпараметр - \"наличие слоя батч-нормализации\"\n",
    "    if hp.Boolean(\"need_batch_norm_after_second_conv2d\"):\n",
    "        # Сюда зайдём в случае, когда keras-tuner подставит True в качестве гиперпараметра need_batch_norm_after_second_conv2d\n",
    "        # И тогда в модель будет добавлен слой батч-нормализации\n",
    "        image_model.add(BatchNormalization())\n",
    "    \n",
    "    image_model.add(MaxPooling2D())\n",
    "    image_model.add(Conv2D(4, kernel_size=(3, 3), strides=(1, 1), activation='relu'))\n",
    "    image_model.add(BatchNormalization())\n",
    "    image_model.add(Flatten())\n",
    "\n",
    "    image_model.add(Dense(4, activation='relu'))\n",
    "    image_model.add(Dense(10, activation='softmax'))\n",
    "    image_model.compile(optimizer='adam',\n",
    "                        loss='categorical_crossentropy',\n",
    "                        metrics=['accuracy'])\n",
    "    # Функция должна возвращать построенную и скомпилированную модель\n",
    "    return image_model"
   ]
  },
  {
   "cell_type": "markdown",
   "metadata": {},
   "source": [
    "Далее создадим тюнер, который будет искать лучшие гиперпараметры из заданных с помощью случайного поиска (random search).\n",
    "\n",
    "Случайный поиск используется, когда возможных конфигураций модели слишком много, так как процесс обучения одной модели может быть затратным. При случайном поиске гиперпараметры будут выбираться из возможных случайным образом. Нам нужно лишь указать максимальное количество различных моделей, которые следует обучать.\n",
    "\n",
    "Лучшими гиперпараметрами тюнер считает модель, которая после обучения показала лучшее качество по метрике, переданной аргументом `objective`."
   ]
  },
  {
   "cell_type": "code",
   "execution_count": 38,
   "metadata": {},
   "outputs": [
    {
     "name": "stdout",
     "output_type": "stream",
     "text": [
      "Trial 3 Complete [00h 00m 39s]\n",
      "val_loss: 0.5765729546546936\n",
      "\n",
      "Best val_loss So Far: 0.5765729546546936\n",
      "Total elapsed time: 00h 01m 56s\n",
      "INFO:tensorflow:Oracle triggered exit\n"
     ]
    }
   ],
   "source": [
    "# Создаём тюнер\n",
    "tuner = kt.RandomSearch(\n",
    "    build_model,  # Передаём функцию, определённую выше\n",
    "    objective='val_loss',  # Передаём критерий качества лучшей модели\n",
    "    max_trials=3,  # Максимальное кол-во возможных конфигураций, которые тюнер \"проверит\"\n",
    "    seed=1234,\n",
    ")\n",
    "\n",
    "# Запускаем процесс поиска\n",
    "# В качестве аргументов передаём всё то, что передали бы в метод fit, если бы подбора гиперпараметров не было\n",
    "tuner.search(train_images, train_vectors, epochs=5, batch_size=128, validation_data=(test_images, test_vectors))"
   ]
  },
  {
   "cell_type": "markdown",
   "metadata": {},
   "source": [
    "Посмотрим итоги поиска"
   ]
  },
  {
   "cell_type": "code",
   "execution_count": 39,
   "metadata": {},
   "outputs": [
    {
     "name": "stdout",
     "output_type": "stream",
     "text": [
      "Results summary\n",
      "Results in .\\untitled_project\n",
      "Showing 10 best trials\n",
      "<keras_tuner.engine.objective.Objective object at 0x000001D99CEC26A0>\n",
      "Trial summary\n",
      "Hyperparameters:\n",
      "second_conv2d_out_channels: 5\n",
      "second_conv2d_activation: tanh\n",
      "need_batch_norm_after_second_conv2d: True\n",
      "Score: 0.5765729546546936\n",
      "Trial summary\n",
      "Hyperparameters:\n",
      "second_conv2d_out_channels: 4\n",
      "second_conv2d_activation: relu\n",
      "need_batch_norm_after_second_conv2d: True\n",
      "Score: 0.617464542388916\n",
      "Trial summary\n",
      "Hyperparameters:\n",
      "second_conv2d_out_channels: 5\n",
      "second_conv2d_activation: tanh\n",
      "need_batch_norm_after_second_conv2d: False\n",
      "Score: 0.6291934847831726\n"
     ]
    }
   ],
   "source": [
    "tuner.results_summary()"
   ]
  },
  {
   "cell_type": "markdown",
   "metadata": {},
   "source": [
    "Создадим модель, которую тюнер признал лучшей"
   ]
  },
  {
   "cell_type": "code",
   "execution_count": 40,
   "metadata": {},
   "outputs": [
    {
     "name": "stdout",
     "output_type": "stream",
     "text": [
      "Model: \"sequential\"\n",
      "_________________________________________________________________\n",
      " Layer (type)                Output Shape              Param #   \n",
      "=================================================================\n",
      " reshape (Reshape)           (None, 28, 28, 1)         0         \n",
      "                                                                 \n",
      " conv2d (Conv2D)             (None, 26, 26, 4)         40        \n",
      "                                                                 \n",
      " batch_normalization (BatchN  (None, 26, 26, 4)        16        \n",
      " ormalization)                                                   \n",
      "                                                                 \n",
      " max_pooling2d (MaxPooling2D  (None, 13, 13, 4)        0         \n",
      " )                                                               \n",
      "                                                                 \n",
      " conv2d_1 (Conv2D)           (None, 11, 11, 5)         185       \n",
      "                                                                 \n",
      " batch_normalization_1 (Batc  (None, 11, 11, 5)        20        \n",
      " hNormalization)                                                 \n",
      "                                                                 \n",
      " max_pooling2d_1 (MaxPooling  (None, 5, 5, 5)          0         \n",
      " 2D)                                                             \n",
      "                                                                 \n",
      " conv2d_2 (Conv2D)           (None, 3, 3, 4)           184       \n",
      "                                                                 \n",
      " batch_normalization_2 (Batc  (None, 3, 3, 4)          16        \n",
      " hNormalization)                                                 \n",
      "                                                                 \n",
      " flatten (Flatten)           (None, 36)                0         \n",
      "                                                                 \n",
      " dense (Dense)               (None, 4)                 148       \n",
      "                                                                 \n",
      " dense_1 (Dense)             (None, 10)                50        \n",
      "                                                                 \n",
      "=================================================================\n",
      "Total params: 659\n",
      "Trainable params: 633\n",
      "Non-trainable params: 26\n",
      "_________________________________________________________________\n"
     ]
    }
   ],
   "source": [
    "best_model = tuner.get_best_models()[0]  # Создадим модель\n",
    "best_model.build(input_shape=(None, 28, 28))  # Построим модель с лучшими гиперпараметрами\n",
    "best_model.summary()  # Посмотрим на архитектуру построенной модели, она соответствует выбранным гиперпараметрам"
   ]
  },
  {
   "cell_type": "markdown",
   "metadata": {},
   "source": [
    "Замерим `accuracy` для найденной модели на тестовых данных"
   ]
  },
  {
   "cell_type": "code",
   "execution_count": 41,
   "metadata": {},
   "outputs": [
    {
     "name": "stdout",
     "output_type": "stream",
     "text": [
      "313/313 [==============================] - 1s 3ms/step\n",
      "Качество найденной модели: 0.7936\n"
     ]
    }
   ],
   "source": [
    "# Так как мы кодировали метки векторами, можем раскодировать их обратно,\n",
    "# воспользовавшись функцией argmax - находит индекс максимального элемента вектора\n",
    "print(f\"Качество найденной модели: {accuracy_score(test_labels, np.argmax(best_model.predict(test_images), axis=-1))}\")"
   ]
  },
  {
   "cell_type": "markdown",
   "metadata": {},
   "source": [
    "#### Задание 2.\n",
    "\n",
    "Измените параметры свёрточной сети / параметры обучения (метода `fit`), чтобы повысить качество (accuracy) на **тестовых данных** до **0.88**.\n",
    "\n",
    "При желании можно использовать автоматический подбор гиперпараметров с помощью keras-tuner, но можно обойтись и без него.\n",
    "\n",
    "Если Вы перезапустили ноутбук, надо заново загрузить датасет, выполнив начальную ячейку с кодом в разделе [Нейронные сети для обработки изображений](#Нейронные-сети-для-обработки-изображений)."
   ]
  },
  {
   "cell_type": "code",
   "execution_count": 132,
   "metadata": {},
   "outputs": [
    {
     "data": {
      "text/plain": [
       "'\\nnp.random.seed(1)\\nset_random_seed(1)\\n\\ndef build_model(hp):\\n    image_model = Sequential()\\n    image_model.add(Reshape((28, 28, 1), input_shape=(28, 28)))\\n#    image_model.add(Conv2D(4, kernel_size=(3, 3), strides=(1, 1), activation=\\'relu\\'))\\n#    image_model.add(BatchNormalization())\\n#    image_model.add(MaxPooling2D())\\n    \\n    # В следующем слое сообщаем keras tuner гиперпараметры, из которых надо искать лучшие\\n    image_model.add(Conv2D(hp.Int(  # С помощью hp.Int перебираем целые числа в качестве гиперпараметров\\n                                \\'second_conv2d_out_channels\\',  # название нашего гиперпараметра, для которого ищем значение\\n                                min_value=4,\\n                                max_value=5,\\n                                step=1,\\n                            ),\\n                           kernel_size=(3, 3), strides=(1, 1), input_shape=(28, 28, 1),\\n                           activation=hp.Choice(  # Перебираем значения в качестве гиперпараметров\\n                               \\'second_conv2d_activation\\',  # название нашего гиперпараметра, для которого ищем значение\\n                               [\\'relu\\', \\'tanh\\'],  # список, из которого можно выбирать значения гиперпараметра\\n                           )))\\n    \\n    # Следующий гиперпараметр - \"наличие слоя батч-нормализации\"\\n#    if hp.Boolean(\"need_batch_norm_after_second_conv2d\"):\\n        # Сюда зайдём в случае, когда keras-tuner подставит True в качестве гиперпараметра need_batch_norm_after_second_conv2d\\n        # И тогда в модель будет добавлен слой батч-нормализации\\n#        image_model.add(BatchNormalization())\\n    image_model.add(BatchNormalization())\\n    image_model.add(MaxPooling2D())\\n    \\n        # В следующем слое сообщаем keras tuner гиперпараметры, из которых надо искать лучшие\\n    image_model.add(Conv2D(hp.Int(  # С помощью hp.Int перебираем целые числа в качестве гиперпараметров\\n                                \\'second_conv2d_out_channels\\',  # название нашего гиперпараметра, для которого ищем значение\\n                                min_value=4,\\n                                max_value=5,\\n                                step=1,\\n                            ),\\n                           kernel_size=(3, 3), strides=(1, 1), input_shape=(14, 14, 4),\\n                           activation=hp.Choice(  # Перебираем значения в качестве гиперпараметров\\n                               \\'second_conv2d_activation\\',  # название нашего гиперпараметра, для которого ищем значение\\n                               [\\'relu\\', \\'tanh\\'],  # список, из которого можно выбирать значения гиперпараметра\\n                           )))\\n    \\n        # Следующий гиперпараметр - \"наличие слоя батч-нормализации\"\\n#    if hp.Boolean(\"need_batch_norm_after_second_conv2d\"):\\n        # Сюда зайдём в случае, когда keras-tuner подставит True в качестве гиперпараметра need_batch_norm_after_second_conv2d\\n        # И тогда в модель будет добавлен слой батч-нормализации\\n#        image_model.add(BatchNormalization())\\n    image_model.add(BatchNormalization())\\n    image_model.add(MaxPooling2D())\\n    \\n    image_model.add(Conv2D(hp.Int(  # С помощью hp.Int перебираем целые числа в качестве гиперпараметров\\n                                \\'second_conv2d_out_channels\\',  # название нашего гиперпараметра, для которого ищем значение\\n                                min_value=4,\\n                                max_value=5,\\n                                step=1,\\n                            ),\\n                           kernel_size=(3, 3), strides=(1, 1), input_shape=(7, 7, 4),\\n                           activation=hp.Choice(  # Перебираем значения в качестве гиперпараметров\\n                               \\'second_conv2d_activation\\',  # название нашего гиперпараметра, для которого ищем значение\\n                               [\\'relu\\', \\'tanh\\'],  # список, из которого можно выбирать значения гиперпараметра\\n                           )))\\n    \\n        # Следующий гиперпараметр - \"наличие слоя батч-нормализации\"\\n    if hp.Boolean(\"need_batch_norm_after_second_conv2d\"):\\n        # Сюда зайдём в случае, когда keras-tuner подставит True в качестве гиперпараметра need_batch_norm_after_second_conv2d\\n        # И тогда в модель будет добавлен слой батч-нормализации\\n        image_model.add(BatchNormalization())    \\n    \\n    image_model.add(Conv2D(4, kernel_size=(3, 3), strides=(1, 1), activation=\\'relu\\'))\\n    image_model.add(BatchNormalization())\\n    \\n    \\n    \\n    image_model.add(Flatten())\\n    image_model.add(Dense(4, activation=\\'relu\\'))\\n    image_model.add(Dense(10, activation=\\'softmax\\'))\\n    \\n    image_model.compile(optimizer=\\'adam\\',\\n                        loss=\\'categorical_crossentropy\\',\\n                        metrics=[\\'accuracy\\'])\\n    # Функция должна возвращать построенную и скомпилированную модель\\n    return image_model\\n\\n\\n# Создаём тюнер\\ntuner = kt.RandomSearch(\\n    build_model,  # Передаём функцию, определённую выше\\n    objective=\\'val_loss\\',  # Передаём критерий качества лучшей модели\\n    max_trials=3,  # Максимальное кол-во возможных конфигураций, которые тюнер \"проверит\"\\n    seed=1234,\\n)\\n\\n# Запускаем процесс поиска\\n# В качестве аргументов передаём всё то, что передали бы в метод fit, если бы подбора гиперпараметров не было\\ntuner.search(train_images, train_vectors, epochs=5, batch_size=128, validation_data=(test_images, test_vectors))\\n\\ntuner.results_summary()\\n\\nbest_model = tuner.get_best_models()[0]  # Создадим модель\\n# best_model.build(input_shape=(None, 28, 28))  # Построим модель с лучшими гиперпараметрами\\n# best_model.summary()  # Посмотрим на архитектуру построенной модели, она соответствует выбранным гиперпараметрам\\n\\n# Так как мы кодировали метки векторами, можем раскодировать их обратно,\\n# воспользовавшись функцией argmax - находит индекс максимального элемента вектора\\n# print(f\"Качество найденной модели: {accuracy_score(test_labels, np.argmax(best_model.predict(test_images), axis=-1))}\")\\n'"
      ]
     },
     "execution_count": 132,
     "metadata": {},
     "output_type": "execute_result"
    }
   ],
   "source": [
    "\n",
    "np.random.seed(1)\n",
    "set_random_seed(1)\n",
    "\n",
    "classification_model = Sequential()\n",
    "classification_model.add(Reshape((28, 28, 1), input_shape=(28, 28)))\n",
    "# далее input_shape указывать не обязательно\n",
    "# следует изменить параметры следующих слоёв:\n",
    "classification_model.add(Conv2D(18, kernel_size=(3, 3), strides=(1, 1),\n",
    "                       input_shape=(28, 28, 1), activation='relu'))\n",
    "classification_model.add(BatchNormalization())\n",
    "classification_model.add(MaxPooling2D())\n",
    "classification_model.add(Conv2D(17, kernel_size=(3, 3), strides=(1, 1),\n",
    "                       input_shape=(14, 14, 4), activation='relu'))\n",
    "classification_model.add(BatchNormalization())\n",
    "classification_model.add(MaxPooling2D())\n",
    "classification_model.add(Conv2D(18, kernel_size=(3, 3), strides=(1, 1),\n",
    "                       input_shape=(7, 7, 4), activation='relu'))\n",
    "classification_model.add(BatchNormalization())\n",
    "\n",
    "# Слой ниже (и последующие слои) менять не надо\n",
    "classification_model.add(Flatten(name='flatten'))\n",
    "classification_model.add(Dense(4, activation='relu'))\n",
    "classification_model.add(Dense(10, activation='softmax'))\n",
    "\n",
    "\n",
    "'''\n",
    "np.random.seed(1)\n",
    "set_random_seed(1)\n",
    "\n",
    "def build_model(hp):\n",
    "    image_model = Sequential()\n",
    "    image_model.add(Reshape((28, 28, 1), input_shape=(28, 28)))\n",
    "#    image_model.add(Conv2D(4, kernel_size=(3, 3), strides=(1, 1), activation='relu'))\n",
    "#    image_model.add(BatchNormalization())\n",
    "#    image_model.add(MaxPooling2D())\n",
    "    \n",
    "    # В следующем слое сообщаем keras tuner гиперпараметры, из которых надо искать лучшие\n",
    "    image_model.add(Conv2D(hp.Int(  # С помощью hp.Int перебираем целые числа в качестве гиперпараметров\n",
    "                                'second_conv2d_out_channels',  # название нашего гиперпараметра, для которого ищем значение\n",
    "                                min_value=4,\n",
    "                                max_value=5,\n",
    "                                step=1,\n",
    "                            ),\n",
    "                           kernel_size=(3, 3), strides=(1, 1), input_shape=(28, 28, 1),\n",
    "                           activation=hp.Choice(  # Перебираем значения в качестве гиперпараметров\n",
    "                               'second_conv2d_activation',  # название нашего гиперпараметра, для которого ищем значение\n",
    "                               ['relu', 'tanh'],  # список, из которого можно выбирать значения гиперпараметра\n",
    "                           )))\n",
    "    \n",
    "    # Следующий гиперпараметр - \"наличие слоя батч-нормализации\"\n",
    "#    if hp.Boolean(\"need_batch_norm_after_second_conv2d\"):\n",
    "        # Сюда зайдём в случае, когда keras-tuner подставит True в качестве гиперпараметра need_batch_norm_after_second_conv2d\n",
    "        # И тогда в модель будет добавлен слой батч-нормализации\n",
    "#        image_model.add(BatchNormalization())\n",
    "    image_model.add(BatchNormalization())\n",
    "    image_model.add(MaxPooling2D())\n",
    "    \n",
    "        # В следующем слое сообщаем keras tuner гиперпараметры, из которых надо искать лучшие\n",
    "    image_model.add(Conv2D(hp.Int(  # С помощью hp.Int перебираем целые числа в качестве гиперпараметров\n",
    "                                'second_conv2d_out_channels',  # название нашего гиперпараметра, для которого ищем значение\n",
    "                                min_value=4,\n",
    "                                max_value=5,\n",
    "                                step=1,\n",
    "                            ),\n",
    "                           kernel_size=(3, 3), strides=(1, 1), input_shape=(14, 14, 4),\n",
    "                           activation=hp.Choice(  # Перебираем значения в качестве гиперпараметров\n",
    "                               'second_conv2d_activation',  # название нашего гиперпараметра, для которого ищем значение\n",
    "                               ['relu', 'tanh'],  # список, из которого можно выбирать значения гиперпараметра\n",
    "                           )))\n",
    "    \n",
    "        # Следующий гиперпараметр - \"наличие слоя батч-нормализации\"\n",
    "#    if hp.Boolean(\"need_batch_norm_after_second_conv2d\"):\n",
    "        # Сюда зайдём в случае, когда keras-tuner подставит True в качестве гиперпараметра need_batch_norm_after_second_conv2d\n",
    "        # И тогда в модель будет добавлен слой батч-нормализации\n",
    "#        image_model.add(BatchNormalization())\n",
    "    image_model.add(BatchNormalization())\n",
    "    image_model.add(MaxPooling2D())\n",
    "    \n",
    "    image_model.add(Conv2D(hp.Int(  # С помощью hp.Int перебираем целые числа в качестве гиперпараметров\n",
    "                                'second_conv2d_out_channels',  # название нашего гиперпараметра, для которого ищем значение\n",
    "                                min_value=4,\n",
    "                                max_value=5,\n",
    "                                step=1,\n",
    "                            ),\n",
    "                           kernel_size=(3, 3), strides=(1, 1), input_shape=(7, 7, 4),\n",
    "                           activation=hp.Choice(  # Перебираем значения в качестве гиперпараметров\n",
    "                               'second_conv2d_activation',  # название нашего гиперпараметра, для которого ищем значение\n",
    "                               ['relu', 'tanh'],  # список, из которого можно выбирать значения гиперпараметра\n",
    "                           )))\n",
    "    \n",
    "        # Следующий гиперпараметр - \"наличие слоя батч-нормализации\"\n",
    "    if hp.Boolean(\"need_batch_norm_after_second_conv2d\"):\n",
    "        # Сюда зайдём в случае, когда keras-tuner подставит True в качестве гиперпараметра need_batch_norm_after_second_conv2d\n",
    "        # И тогда в модель будет добавлен слой батч-нормализации\n",
    "        image_model.add(BatchNormalization())    \n",
    "    \n",
    "    image_model.add(Conv2D(4, kernel_size=(3, 3), strides=(1, 1), activation='relu'))\n",
    "    image_model.add(BatchNormalization())\n",
    "    \n",
    "    \n",
    "    \n",
    "    image_model.add(Flatten())\n",
    "    image_model.add(Dense(4, activation='relu'))\n",
    "    image_model.add(Dense(10, activation='softmax'))\n",
    "    \n",
    "    image_model.compile(optimizer='adam',\n",
    "                        loss='categorical_crossentropy',\n",
    "                        metrics=['accuracy'])\n",
    "    # Функция должна возвращать построенную и скомпилированную модель\n",
    "    return image_model\n",
    "\n",
    "\n",
    "# Создаём тюнер\n",
    "tuner = kt.RandomSearch(\n",
    "    build_model,  # Передаём функцию, определённую выше\n",
    "    objective='val_loss',  # Передаём критерий качества лучшей модели\n",
    "    max_trials=3,  # Максимальное кол-во возможных конфигураций, которые тюнер \"проверит\"\n",
    "    seed=1234,\n",
    ")\n",
    "\n",
    "# Запускаем процесс поиска\n",
    "# В качестве аргументов передаём всё то, что передали бы в метод fit, если бы подбора гиперпараметров не было\n",
    "tuner.search(train_images, train_vectors, epochs=5, batch_size=128, validation_data=(test_images, test_vectors))\n",
    "\n",
    "tuner.results_summary()\n",
    "\n",
    "best_model = tuner.get_best_models()[0]  # Создадим модель\n",
    "# best_model.build(input_shape=(None, 28, 28))  # Построим модель с лучшими гиперпараметрами\n",
    "# best_model.summary()  # Посмотрим на архитектуру построенной модели, она соответствует выбранным гиперпараметрам\n",
    "\n",
    "# Так как мы кодировали метки векторами, можем раскодировать их обратно,\n",
    "# воспользовавшись функцией argmax - находит индекс максимального элемента вектора\n",
    "# print(f\"Качество найденной модели: {accuracy_score(test_labels, np.argmax(best_model.predict(test_images), axis=-1))}\")\n",
    "'''"
   ]
  },
  {
   "cell_type": "code",
   "execution_count": 133,
   "metadata": {},
   "outputs": [
    {
     "name": "stdout",
     "output_type": "stream",
     "text": [
      "Epoch 1/12\n",
      "469/469 [==============================] - 17s 35ms/step - loss: 1.2742 - accuracy: 0.6062 - val_loss: 1.2162 - val_accuracy: 0.5281\n",
      "Epoch 2/12\n",
      "469/469 [==============================] - 17s 36ms/step - loss: 0.7626 - accuracy: 0.7623 - val_loss: 0.6986 - val_accuracy: 0.8141\n",
      "Epoch 3/12\n",
      "469/469 [==============================] - 17s 37ms/step - loss: 0.5515 - accuracy: 0.8601 - val_loss: 0.4851 - val_accuracy: 0.8558\n",
      "Epoch 4/12\n",
      "469/469 [==============================] - 17s 37ms/step - loss: 0.3894 - accuracy: 0.8726 - val_loss: 0.3948 - val_accuracy: 0.8659\n",
      "Epoch 5/12\n",
      "469/469 [==============================] - 17s 37ms/step - loss: 0.3420 - accuracy: 0.8816 - val_loss: 0.3815 - val_accuracy: 0.8705\n",
      "Epoch 6/12\n",
      "469/469 [==============================] - 18s 37ms/step - loss: 0.3218 - accuracy: 0.8881 - val_loss: 0.3606 - val_accuracy: 0.8778\n",
      "Epoch 7/12\n",
      "469/469 [==============================] - 18s 39ms/step - loss: 0.3101 - accuracy: 0.8913 - val_loss: 0.3641 - val_accuracy: 0.8732\n",
      "Epoch 8/12\n",
      "469/469 [==============================] - 17s 37ms/step - loss: 0.2975 - accuracy: 0.8965 - val_loss: 0.3545 - val_accuracy: 0.8779\n",
      "Epoch 9/12\n",
      "469/469 [==============================] - 17s 35ms/step - loss: 0.2890 - accuracy: 0.8992 - val_loss: 0.3764 - val_accuracy: 0.8681\n",
      "Epoch 10/12\n",
      "469/469 [==============================] - 16s 35ms/step - loss: 0.2814 - accuracy: 0.9014 - val_loss: 0.3620 - val_accuracy: 0.8798\n",
      "Epoch 11/12\n",
      "469/469 [==============================] - 17s 35ms/step - loss: 0.2729 - accuracy: 0.9058 - val_loss: 0.3675 - val_accuracy: 0.8754\n",
      "Epoch 12/12\n",
      "469/469 [==============================] - 16s 35ms/step - loss: 0.2682 - accuracy: 0.9055 - val_loss: 0.3405 - val_accuracy: 0.8879\n"
     ]
    },
    {
     "data": {
      "text/plain": [
       "<keras.callbacks.History at 0x1d9c7e58370>"
      ]
     },
     "execution_count": 133,
     "metadata": {},
     "output_type": "execute_result"
    }
   ],
   "source": [
    "classification_model.compile(optimizer='adam', \n",
    "                             loss='categorical_crossentropy',\n",
    "                             metrics=['accuracy'])\n",
    "\n",
    "classification_model.fit(train_images, train_vectors, epochs=12, batch_size=128,\n",
    "                         validation_data=(test_images, test_vectors))"
   ]
  },
  {
   "cell_type": "code",
   "execution_count": 134,
   "metadata": {},
   "outputs": [],
   "source": [
    "def evaluate_model_for_task_2(model):\n",
    "    test_acc = accuracy_score(test_labels, np.argmax(model.predict(test_images), axis=-1))\n",
    "    print(f\"Качество: {test_acc}\")\n",
    "    print(\"Тест на качество {}\".format(\"НЕ пройден :(\" if 0.88 > test_acc else \"пройден :)\"))"
   ]
  },
  {
   "cell_type": "markdown",
   "metadata": {},
   "source": [
    "Вызовите функцию `evaluate_model_for_task_2`, передав ей обученную модель, чтобы увидеть качество этой модели. При сдаче задания качество должно быть не ниже **0.88**.\n",
    "\n",
    "Не забудьте сохранить модель, выполнив ячейки ниже.\n",
    "\n",
    "_Примечание: модель, полученная в ходе выполнения этого задания, будет использована далее, поэтому важно, чтобы она называлась_ `classification_model`"
   ]
  },
  {
   "cell_type": "code",
   "execution_count": 135,
   "metadata": {},
   "outputs": [
    {
     "name": "stdout",
     "output_type": "stream",
     "text": [
      "313/313 [==============================] - 1s 4ms/step\n",
      "Качество: 0.8879\n",
      "Тест на качество пройден :)\n"
     ]
    }
   ],
   "source": [
    "#  classification_model = best_model\n",
    "evaluate_model_for_task_2(classification_model)"
   ]
  },
  {
   "cell_type": "markdown",
   "metadata": {},
   "source": [
    "Модель понадобится в следующем задании, поэтому сохраним её"
   ]
  },
  {
   "cell_type": "code",
   "execution_count": 136,
   "metadata": {},
   "outputs": [],
   "source": [
    "second_task_saved_model = os.path.join(\"models\", \"task_2_weights.h5\")\n",
    "# Создаём папку, куда сохраним результаты, если папки ещё нет\n",
    "Path(\"models\").mkdir(parents=True, exist_ok=True)\n",
    "classification_model.save(second_task_saved_model)\n",
    "\n",
    "add_to_answer(\n",
    "    \"task_2\",\n",
    "    {\n",
    "        \"model_path\": second_task_saved_model,\n",
    "    },\n",
    ")"
   ]
  },
  {
   "cell_type": "markdown",
   "metadata": {},
   "source": [
    "---\n",
    "\n",
    "Посмотрим как выглядит предсказание:"
   ]
  },
  {
   "cell_type": "code",
   "execution_count": 137,
   "metadata": {},
   "outputs": [
    {
     "name": "stdout",
     "output_type": "stream",
     "text": [
      "1/1 [==============================] - 0s 19ms/step\n"
     ]
    },
    {
     "data": {
      "image/png": "[encoded data removed]",
      "text/plain": [
       "<Figure size 432x288 with 1 Axes>"
      ]
     },
     "metadata": {
      "needs_background": "light"
     },
     "output_type": "display_data"
    },
    {
     "data": {
      "text/plain": [
       "<Figure size 432x288 with 0 Axes>"
      ]
     },
     "metadata": {},
     "output_type": "display_data"
    },
    {
     "data": {
      "image/png": "[encoded data removed]",
      "text/plain": [
       "<Figure size 1224x288 with 2 Axes>"
      ]
     },
     "metadata": {
      "needs_background": "light"
     },
     "output_type": "display_data"
    }
   ],
   "source": [
    "np.random.seed(123456)\n",
    "test_ind = np.random.randint(test_images.shape[0])\n",
    "test_image = test_images[test_ind]\n",
    "test_vector = test_vectors[test_ind]\n",
    "predicted_test_vector = classification_model.predict(test_image[np.newaxis]).reshape((10,))\n",
    "\n",
    "plt.imshow(test_image, cmap='gray')\n",
    "plt.title('Тестовое изображение')\n",
    "plt.figure()\n",
    "\n",
    "fig, ax = plt.subplots(1, 2, figsize=(17, 4))\n",
    "ax[0].bar(range(10), test_vector, tick_label=classes)\n",
    "ax[1].bar(range(10), predicted_test_vector, tick_label=classes)\n",
    "for i, title in enumerate(['Правильный вектор классов', 'Предсказанный вектор']): ax[i].set_title(title)"
   ]
  },
  {
   "cell_type": "markdown",
   "metadata": {},
   "source": [
    "Получим предсказания для первых 100 изображений:"
   ]
  },
  {
   "cell_type": "code",
   "execution_count": 138,
   "metadata": {
    "scrolled": true
   },
   "outputs": [
    {
     "name": "stdout",
     "output_type": "stream",
     "text": [
      "CPU times: total: 0 ns\n",
      "Wall time: 0 ns\n",
      "4/4 [==============================] - 0s 4ms/step\n"
     ]
    }
   ],
   "source": [
    "%time\n",
    "predicted_vectors = classification_model.predict(test_images[:100]).reshape((100, 10))"
   ]
  },
  {
   "cell_type": "markdown",
   "metadata": {},
   "source": [
    "Посмотрим на каких изображениях сеть ошибается:"
   ]
  },
  {
   "cell_type": "code",
   "execution_count": 139,
   "metadata": {},
   "outputs": [
    {
     "data": {
      "image/png": "[encoded data removed]",
      "text/plain": [
       "<Figure size 432x288 with 2 Axes>"
      ]
     },
     "metadata": {
      "needs_background": "light"
     },
     "output_type": "display_data"
    },
    {
     "data": {
      "text/plain": [
       "<Figure size 432x288 with 0 Axes>"
      ]
     },
     "metadata": {},
     "output_type": "display_data"
    },
    {
     "data": {
      "image/png": "[encoded data removed]",
      "text/plain": [
       "<Figure size 1080x288 with 12 Axes>"
      ]
     },
     "metadata": {
      "needs_background": "light"
     },
     "output_type": "display_data"
    }
   ],
   "source": [
    "predicted_labels = np.argmax(predicted_vectors, axis=1)  # предсказанные индексы классов - где верояность наибольшая\n",
    "\n",
    "pred = test_labels[:100] != predicted_labels\n",
    "misclassified_images = test_images[:100][pred]\n",
    "misclassified_correct = test_labels[:100][pred]\n",
    "misclassified_predicted = predicted_labels[:100][pred]\n",
    "\n",
    "cm = confusion_matrix(test_labels[:100], predicted_labels[:100])\n",
    "plt.imshow(cm, interpolation='nearest')\n",
    "plt.xticks(range(10), classes, rotation=90)\n",
    "plt.yticks(range(10), classes)\n",
    "plt.colorbar()\n",
    "plt.title(\"Confusion matrix\")\n",
    "plt.figure()\n",
    "\n",
    "fig, ax = plt.subplots(2, 6, figsize=(15, 4))\n",
    "for i in range(2 * 6):\n",
    "    ax.flatten()[i].imshow(misclassified_images[i], cmap='gray')\n",
    "    ax.flatten()[i].axis('off')\n",
    "    ax.flatten()[i].set_title(f\"{classes[misclassified_predicted[i]]} / {classes[misclassified_correct[i]]}\")"
   ]
  },
  {
   "cell_type": "markdown",
   "metadata": {},
   "source": [
    "---\n",
    "\n",
    "### Gradient Boosting для классификации изображений\n",
    "\n",
    "\n",
    "\n",
    "Будем рассматривать ту же задачу, что и в прошлом задании."
   ]
  },
  {
   "cell_type": "markdown",
   "metadata": {},
   "source": [
    "_Примечание:_ здесь используем модель-результат второго задания - `classification_model` (модель-классификатор). Если ноутбук перезагружался, можно выполнить ячейку с кодом ниже, чтобы загрузить датасет и обученную в задании модель в память.\n",
    "\n",
    "_Ещё примечание:_ второе задание, выполненное до этого шага, могло потребовать много ресурсов компьютера (особенно, если был использован keras tuner). Так как модель, полученная в прошлом задании, была сохранена, может быть удобно перезагрузить ноутбук, чтобы освободить занятые ресурсы, для выполнения следующих заданий."
   ]
  },
  {
   "cell_type": "code",
   "execution_count": 140,
   "metadata": {},
   "outputs": [],
   "source": [
    "(train_images, train_labels), (test_images, test_labels) = fashion_mnist.load_data()\n",
    "classes = ['T-shirt', 'Trouser', 'Pullover', 'Dress', 'Coat', 'Sandal', 'Shirt', 'Sneaker', 'Bag', 'Ankle boot']\n",
    "\n",
    "# Переводим цвета из диапазона [0, 255] к диапазону [0, 1]\n",
    "train_images = train_images / 255.0\n",
    "test_images  = test_images / 255.0\n",
    "# Переводим числовые метки в категориальные - вместо номера класса от 0 до 9 будем использовать векторы\n",
    "# из 10 элементов, где все нули, кроме единицы на i-ой позиции для i-го класса.\n",
    "# Такой подход позволяет избежать негативных эффектов при обучении, т.к. между классами нет строгого линейного порядка,\n",
    "# как в случае с числами от 0 до 9.\n",
    "train_vectors = to_categorical(train_labels)\n",
    "test_vectors = to_categorical(test_labels)\n",
    "\n",
    "second_task_saved_model = os.path.join(\"models\", \"task_2_weights.h5\")\n",
    "classification_model = load_model(second_task_saved_model)"
   ]
  },
  {
   "cell_type": "markdown",
   "metadata": {},
   "source": [
    "Возьмём лишь часть модели `classification_model` (до полносвязных слоёв), чтобы получить векторы признаков - именно для этого при создании модели мы помечали слой `Flatten`."
   ]
  },
  {
   "cell_type": "code",
   "execution_count": 141,
   "metadata": {},
   "outputs": [],
   "source": [
    "# Из слоёв classification_model составим модель для извлечения вектора признаков\n",
    "feature_extractor = Model(\n",
    "    inputs=classification_model.inputs,\n",
    "    outputs=classification_model.get_layer(name=\"flatten\").output,  # Указываем слой, выходы после которого нас интересуют\n",
    ")"
   ]
  },
  {
   "cell_type": "markdown",
   "metadata": {},
   "source": [
    "Получим векторы признаков:"
   ]
  },
  {
   "cell_type": "code",
   "execution_count": 142,
   "metadata": {},
   "outputs": [
    {
     "name": "stdout",
     "output_type": "stream",
     "text": [
      "1875/1875 [==============================] - 8s 4ms/step\n",
      "313/313 [==============================] - 1s 4ms/step\n",
      "train_encoded.shape = (60000, 162)\n",
      "test_encoded.shape = (10000, 162)\n"
     ]
    }
   ],
   "source": [
    "# Здесь predict означает прогон данных через feature_extractor: получаем промежуточные\n",
    "# представления исходных объектов, чтобы на этих представлениях было проще обучить градиентный бустинг.\n",
    "train_encoded = feature_extractor.predict(train_images, batch_size=32)\n",
    "test_encoded = feature_extractor.predict(test_images, batch_size=32)\n",
    "print(f'train_encoded.shape = {train_encoded.shape}')\n",
    "print(f'test_encoded.shape = {test_encoded.shape}')"
   ]
  },
  {
   "cell_type": "markdown",
   "metadata": {},
   "source": [
    "---\n",
    "\n",
    "#### Задание 3.\n",
    "\n",
    "Для векторов признаков, полученных из предыдущего задания, достроим классификатор на основе градиентного бустинга.\n",
    "\n",
    "**Требуется:**\n",
    "\n",
    "Изменить параметры `CatBoostClassifier` ниже, чтобы повысить качество (accuracy) на **тестовых данных** до **0.89**.\n",
    "\n",
    "_Примечание:_ в случае, если ресурсов компьютера не хватает, и не помогает перезагрузка jupyter-ноутбука, можно попробовать выполнить это задание в [Google Colab](https://colab.research.google.com/). В таком случае не забудьте перенести в Colab сохранённую со второго задания модель, а после выполнения не забудьте добавить все необходимые данные в репозиторий."
   ]
  },
  {
   "cell_type": "code",
   "execution_count": 143,
   "metadata": {},
   "outputs": [],
   "source": [
    "dim_reduction = PCA(n_components=train_encoded.shape[-1]) # понизим размерность, используя информацию о классах\n",
    "small_train_encoded = dim_reduction.fit_transform(train_encoded)\n",
    "small_test_encoded = dim_reduction.transform(test_encoded)"
   ]
  },
  {
   "cell_type": "code",
   "execution_count": 146,
   "metadata": {},
   "outputs": [
    {
     "data": {
      "text/plain": [
       "<catboost.core.CatBoostClassifier at 0x1d9c88f47c0>"
      ]
     },
     "execution_count": 146,
     "metadata": {},
     "output_type": "execute_result"
    }
   ],
   "source": [
    "image_gbm = CatBoostClassifier(\n",
    "    loss_function='MultiClass',\n",
    "    # эти параметры следует подобрать:\n",
    "    depth=5,\n",
    "    learning_rate=0.06,\n",
    "    iterations=700,\n",
    ")\n",
    "image_gbm.fit(small_train_encoded, train_labels, verbose=0)"
   ]
  },
  {
   "cell_type": "code",
   "execution_count": 147,
   "metadata": {},
   "outputs": [
    {
     "name": "stdout",
     "output_type": "stream",
     "text": [
      "Качество: 0.8943\n",
      "Порог по качеству пройден\n"
     ]
    }
   ],
   "source": [
    "image_gbm_labels = image_gbm.predict(small_test_encoded)\n",
    "image_gbm_score = accuracy_score(test_labels, image_gbm_labels)\n",
    "print(f\"Качество: {image_gbm_score}\")\n",
    "print(f\"Порог по качеству \" + (\"пройден\" if image_gbm_score >= 0.89 else \"НЕ пройден\"))"
   ]
  },
  {
   "cell_type": "markdown",
   "metadata": {},
   "source": [
    "Не забудьте сохранить ответ"
   ]
  },
  {
   "cell_type": "code",
   "execution_count": 148,
   "metadata": {},
   "outputs": [],
   "source": [
    "third_task_saved_model = os.path.join(\"models\", \"task_3.cbm\")\n",
    "# Создаём папку, куда сохраним результаты, если папки ещё нет\n",
    "Path(\"models\").mkdir(parents=True, exist_ok=True)\n",
    "image_gbm.save_model(third_task_saved_model)\n",
    "\n",
    "add_to_answer(\n",
    "    \"task_3\",\n",
    "    {\n",
    "        \"model_path\": third_task_saved_model,\n",
    "    },\n",
    ")"
   ]
  },
  {
   "cell_type": "markdown",
   "metadata": {},
   "source": [
    "---\n",
    "\n",
    "## Аугментация\n",
    "\n",
    "Часто доступные на этапе обучения размеченные данные оказываются смещёнными, не целиком покрывающими допустимое для данной задачи распределение входных данных.\n",
    "Также, при использовании нейронных сетей с большим числом параметров, на этапе обучения необходимо большое число различных данных, чтобы модель не деградировала до \"табличной функции\", запоминая все входные данные.\n",
    "\n",
    "Для борьбы с обеими проблемами хорошо подходит подход искусственного расширения обучающего набора данных – аугментация. Идея заключается в применении случайных трансформаций к каждому отдельному изображению, при сохранении меток классов. Таким образом можно получить датасет произвольного размера и добиться от нейронной сети определённых свойств (разумеется, для фиксированного, ограниченного распределения входных данных), например: инвариантности к повороту объекта – за счёт обучения на всевозможных поворотах входных изображений.\n",
    "\n",
    "Важно, что выбор набора трансформаций и распределений из которых генерируются их параметры, специфичен для каждой задачи. Например, при классификации деревьев не разумно выполнять повороты на $\\pi$, поскольку известно, что деревья всегда растут снизу вверх.\n",
    "\n",
    "---\n",
    "\n",
    "Будем загружать датасет из GoogleDisk, воспользуемся библиотекой `googledrivedownloader`."
   ]
  },
  {
   "cell_type": "markdown",
   "metadata": {},
   "source": [
    "Скачаем файлы с данными:"
   ]
  },
  {
   "cell_type": "code",
   "execution_count": null,
   "metadata": {},
   "outputs": [],
   "source": [
    "ids_to_file_names = {\n",
    "    '1iFK4-fCqs8l5lWmYnUYlkv28GDb43FUv': 'fashion_images.npy',\n",
    "    '15NUcK_Pg4iEUttK1XiG0SonJaEbaaVnI': 'fashion_labels.npy',\n",
    "    '1AXtbCz3EE2xVuUrGgEco7a-lMh8Vqm0o': 'val_fashion_images.npy',\n",
    "    '1fk1mZxBLRryWp4IoLHRr5IwiaKy4WL_Y': 'val_fashion_labels.npy',\n",
    "    '1tWy1d9lkrCzkiSZBlfd1G6YV4sZ7pNt4': 'test_fashion_images.npy',\n",
    "}\n",
    "\n",
    "# Файлы будем загружать и сохранять в папку data\n",
    "for _id in ids_to_file_names:\n",
    "    ids_to_file_names[_id] = os.path.join(\"data\", ids_to_file_names[_id])\n",
    "    \n",
    "# Создадим папку data, если её ещё нет\n",
    "Path(\"data\").mkdir(parents=True, exist_ok=True)\n",
    "    \n",
    "    \n",
    "for file_id in ids_to_file_names:\n",
    "    # Качаем файл только если он ещё не скачан\n",
    "    if not os.path.isfile(ids_to_file_names[file_id]):\n",
    "        gdd.download_file_from_google_drive(file_id=file_id,\n",
    "                                            dest_path=os.path.join('.', ids_to_file_names[file_id]),\n",
    "                                            unzip=True)"
   ]
  },
  {
   "cell_type": "markdown",
   "metadata": {},
   "source": [
    "Загрузим данные – изображения 64x64 с цветным шумом и случайно аффинно трансформированными снимками одежды:"
   ]
  },
  {
   "cell_type": "code",
   "execution_count": null,
   "metadata": {},
   "outputs": [],
   "source": [
    "def load_from_data(fname):\n",
    "    return np.load(os.path.join(\"data\", fname))\n",
    "\n",
    "fashion_images = load_from_data(\"fashion_images.npy\")\n",
    "fashion_labels = load_from_data(\"fashion_labels.npy\")\n",
    "\n",
    "val_fashion_images = load_from_data(\"val_fashion_images.npy\")\n",
    "val_fashion_labels = load_from_data(\"val_fashion_labels.npy\")\n",
    "\n",
    "test_fashion_images = load_from_data(\"test_fashion_images.npy\")"
   ]
  },
  {
   "cell_type": "markdown",
   "metadata": {},
   "source": [
    "В качестве тренировочного и валидационного датасета даны изображения и метки (вектора вероятностей классов одежды), в качестве тестового – только изображения."
   ]
  },
  {
   "cell_type": "markdown",
   "metadata": {},
   "source": [
    "Ниже дана модель, гиперпараметры которой (количества каналов, размеры ядер, функции активации, архитектуру и т.п.) менять **нельзя**."
   ]
  },
  {
   "cell_type": "code",
   "execution_count": null,
   "metadata": {},
   "outputs": [],
   "source": [
    "def make_fashion_model():\n",
    "    imodel = Sequential()\n",
    "    imodel.add(Reshape((64, 64, 3), input_shape=(64, 64, 3)))\n",
    "    imodel.add(Conv2D(4, kernel_size=(3, 3), strides=(1, 1),\n",
    "                         activation='relu', padding='same'))\n",
    "    imodel.add(BatchNormalization())\n",
    "    imodel.add(MaxPooling2D())\n",
    "    imodel.add(Conv2D(8, kernel_size=(3, 3), strides=(1, 1),\n",
    "                         activation='relu', padding='same'))\n",
    "    imodel.add(BatchNormalization())\n",
    "    imodel.add(MaxPooling2D())\n",
    "    imodel.add(Conv2D(16, kernel_size=(3, 3), strides=(1, 1),\n",
    "                         activation='relu', padding='same'))\n",
    "    imodel.add(BatchNormalization())\n",
    "    imodel.add(MaxPooling2D())\n",
    "    imodel.add(Conv2D(32, kernel_size=(3, 3), strides=(1, 1),\n",
    "                         activation='relu', padding='same'))\n",
    "    imodel.add(BatchNormalization())\n",
    "    imodel.add(MaxPooling2D())\n",
    "    imodel.add(Conv2D(64, kernel_size=(3, 3), strides=(1, 1),\n",
    "                         activation='relu', padding='same'))\n",
    "    imodel.add(BatchNormalization())\n",
    "    imodel.add(MaxPooling2D())\n",
    "    imodel.add(Conv2D(128, kernel_size=(3, 3), strides=(1, 1),\n",
    "                         activation='relu', padding='same'))\n",
    "    imodel.add(BatchNormalization())\n",
    "    imodel.add(Flatten())\n",
    "\n",
    "    iclf = Sequential()\n",
    "    iclf.add(imodel)\n",
    "    iclf.add(Dense(10, activation='softmax'))\n",
    "\n",
    "    iclf.compile(optimizer='adam', \n",
    "                 loss='categorical_crossentropy',\n",
    "                 metrics=['accuracy'])\n",
    "    \n",
    "    return iclf"
   ]
  },
  {
   "cell_type": "markdown",
   "metadata": {},
   "source": [
    "---\n",
    "\n",
    "#### Задание 4 (дополнительное).\n",
    "\n",
    "**Внимание!** Это задание повышенной сложности, за его решение даётся 2.5 балла, выполнять его необязательно.\n",
    "\n",
    "Найти такие параметры аугментации (ниже), чтобы качество классификации (accuracy) на **тестовых** данных было **не ниже 0.6**.\n",
    "\n",
    "*Настоятельно рекомендуется сначала внимательно изучить обучающую и тестовую выборки, а не подбирать параметры случайным образом.*"
   ]
  },
  {
   "cell_type": "code",
   "execution_count": null,
   "metadata": {},
   "outputs": [],
   "source": [
    "train_fashion_images = fashion_images.copy()\n",
    "# здесь можно сделать предварительную обработку всего обучающего датасета\n",
    "train_fashion_labels = fashion_labels"
   ]
  },
  {
   "cell_type": "code",
   "execution_count": null,
   "metadata": {},
   "outputs": [],
   "source": [
    "# здесь следует изменить параметры аугментации (параметры ImageDataGenerator):\n",
    "aug_params = {  # Параметры задаём сначала в словаре, чтобы их потом сохранить\n",
    "    \"featurewise_center\": False,\n",
    "    \"samplewise_center\": False,\n",
    "    \"featurewise_std_normalization\": False,\n",
    "    \"samplewise_std_normalization\": False,\n",
    "    \"rotation_range\": 0,\n",
    "    \"width_shift_range\": 0.0,\n",
    "    \"height_shift_range\": 0.0,\n",
    "    \"brightness_range\": None,\n",
    "    \"shear_range\": 0.0,\n",
    "    \"zoom_range\": 0.0,\n",
    "    \"channel_shift_range\": 0.0,\n",
    "    \"fill_mode\": 'nearest',\n",
    "    \"cval\": 0.0,\n",
    "    \"horizontal_flip\": False,\n",
    "    \"vertical_flip\": False,\n",
    "    \"rescale\": None,\n",
    "}\n",
    "\n",
    "aug = ImageDataGenerator(**aug_params)"
   ]
  },
  {
   "cell_type": "markdown",
   "metadata": {},
   "source": [
    "Из параметров обучения можно менять `batch_size` и `epochs`, но использовать можно не больше 200 эпох.\n",
    "\n",
    "При желании можно разобраться в механизме callback'ов и передать в `fit` дополнительные параметры для автоматического сохранения весов модели к состоянию на \"лучшей\" итерации обучения (лучшей с точки зрения качества на валидационных данных), но это делать не обязательно."
   ]
  },
  {
   "cell_type": "code",
   "execution_count": null,
   "metadata": {
    "scrolled": true
   },
   "outputs": [],
   "source": [
    "fit_params = {\n",
    "    \"batch_size\": 128,\n",
    "    \"epochs\": 200,\n",
    "}\n",
    "\n",
    "fashion_clf = make_fashion_model()\n",
    "\n",
    "aug.fit(train_fashion_images)\n",
    "gen = aug.flow(train_fashion_images, train_fashion_labels,\n",
    "               batch_size=fit_params[\"batch_size\"])\n",
    "\n",
    "hist = fashion_clf.fit(\n",
    "    gen,\n",
    "    steps_per_epoch=len(train_fashion_images) // fit_params[\"batch_size\"],\n",
    "    validation_data=(val_fashion_images, val_fashion_labels),\n",
    "    **fit_params,\n",
    ")"
   ]
  },
  {
   "cell_type": "code",
   "execution_count": null,
   "metadata": {},
   "outputs": [],
   "source": [
    "def plot_accuracy(history):\n",
    "    acc = 'acc' if 'acc' in history else 'accuracy'\n",
    "    val_acc = 'val_' + acc\n",
    "    \n",
    "    plt.plot(range(len(history[acc])), history[acc], color='b')\n",
    "    plt.plot(range(len(history[val_acc])), history[val_acc], color='g')\n",
    "\n",
    "    return hist.history[val_acc][-1]\n",
    "\n",
    "plot_accuracy(hist.history)"
   ]
  },
  {
   "cell_type": "markdown",
   "metadata": {},
   "source": [
    "Для проверки сохраняются веса сети:"
   ]
  },
  {
   "cell_type": "code",
   "execution_count": null,
   "metadata": {},
   "outputs": [],
   "source": [
    "aug_saved_model = os.path.join(\"models\", \"task_4_weights.h5\")\n",
    "# Создаём папку, куда сохраним результаты, если папки ещё нет\n",
    "Path(\"models\").mkdir(parents=True, exist_ok=True)\n",
    "fashion_clf.save(aug_saved_model)\n",
    "\n",
    "add_to_answer(\n",
    "    \"task_4\",\n",
    "    {\n",
    "        \"model_path\": aug_saved_model,\n",
    "        \"fit_params\": fit_params,\n",
    "        \"aug_params\": aug_params,\n",
    "    },\n",
    ")"
   ]
  },
  {
   "cell_type": "markdown",
   "metadata": {},
   "source": [
    "Любые попытки получить более точную модель не с помощью аугментации запрещены.\n",
    "\n",
    "---\n",
    "\n",
    "## Выбор подходящей модели машинного обучения\n",
    "\n",
    "Возьмём набор данных `wine`"
   ]
  },
  {
   "cell_type": "code",
   "execution_count": null,
   "metadata": {},
   "outputs": [],
   "source": [
    "wine_x, wine_y = load_wine(return_X_y=True)\n",
    "\n",
    "x_train, x_test, y_train, y_test = train_test_split(wine_x, wine_y, test_size=0.2, random_state=123456)"
   ]
  },
  {
   "cell_type": "markdown",
   "metadata": {},
   "source": [
    "---\n",
    "\n",
    "#### Задание 5 (дополнительное).\n",
    "\n",
    "Подберите модель машинного обучения для решения задачи _регрессии_ на данных из датасета `wine`.\n",
    "\n",
    "Обучите выбранную модель, используя для обучения только данные `x_train`, `y_train`.\n",
    "\n",
    "Данные `x_test`, `y_test` можно использовать в обучении _только в качестве валидационных данных_.\n",
    "\n",
    "Метрика **MAE** (mean absolute error, средняя абсолютная ошибка) на **тестовых** данных (`x_test`, `y_test`) должна быть **меньше 0.1**.\n",
    "\n",
    "_За выполнение этого задания можно получить 1 дополнительный балл, но выполнять это задание не обязательно_"
   ]
  },
  {
   "cell_type": "code",
   "execution_count": null,
   "metadata": {},
   "outputs": [],
   "source": [
    "# Ваш код обучения модели\n",
    "wine_regressor = ..."
   ]
  },
  {
   "cell_type": "code",
   "execution_count": null,
   "metadata": {},
   "outputs": [],
   "source": [
    "print(f\"MAE on test data = {mean_absolute_error(y_test, wine_regressor.predict(x_test))}\")"
   ]
  },
  {
   "cell_type": "markdown",
   "metadata": {},
   "source": [
    "---"
   ]
  }
 ],
 "metadata": {
  "kernelspec": {
   "display_name": "Python 3 (ipykernel)",
   "language": "python",
   "name": "python3"
  },
  "language_info": {
   "codemirror_mode": {
    "name": "ipython",
    "version": 3
   },
   "file_extension": ".py",
   "mimetype": "text/x-python",
   "name": "python",
   "nbconvert_exporter": "python",
   "pygments_lexer": "ipython3",
   "version": "3.9.12"
  }
 },
 "nbformat": 4,
 "nbformat_minor": 4
}
